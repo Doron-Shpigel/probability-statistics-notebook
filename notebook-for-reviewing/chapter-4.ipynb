{
 "cells": [
  {
   "cell_type": "code",
   "execution_count": 28,
   "metadata": {},
   "outputs": [],
   "source": [
    "from scipy.stats import uniform\n",
    "from scipy.stats import expon\n",
    "from scipy.stats import gamma\n",
    "from scipy.stats import weibull_min\n",
    "from scipy.stats import beta\n",
    "import math"
   ]
  },
  {
   "cell_type": "code",
   "execution_count": 2,
   "metadata": {},
   "outputs": [],
   "source": [
    "def print_status(exp, var, pmf, cdf):\n",
    "    print('Exp\\t {:.6f}\\nVar\\t {:.6f}\\nPMF\\t {:.6f}\\nCDF\\t {:.6f}'.format(exp, var, pmf, cdf))"
   ]
  },
  {
   "cell_type": "markdown",
   "metadata": {},
   "source": [
    "# Chpater 4 Coutinuous Probability Distribution\n",
    "\n",
    "## 4.1 Uniform Distribution\n",
    "\n",
    "$X\\sim U(a, b):f(x;a, b) = \\frac{1}{b-a}, a\\leq x\\leq b$\n",
    "\n",
    "$E(X) = \\frac{a+b}{2}$\n",
    "\n",
    "$Var(X) = \\frac{(b-a)^2}{12}$"
   ]
  },
  {
   "cell_type": "code",
   "execution_count": 9,
   "metadata": {},
   "outputs": [
    {
     "name": "stdout",
     "output_type": "stream",
     "text": [
      "Exp\t 1.500000\n",
      "Var\t 0.083333\n",
      "PMF\t 0.750000\n",
      "CDF\t 0.500000\n"
     ]
    }
   ],
   "source": [
    "# Input\n",
    "a = 1\n",
    "b = 2\n",
    "pdf_variable = [1, 1.75] # [star point, end point]\n",
    "cdf_variable = 1.5\n",
    "\n",
    "# Calculate\n",
    "exp, var = uniform.stats(a, b-a, moments='mv')\n",
    "pdf = uniform.cdf(pdf_variable[1], a, b-a) - uniform.cdf(pdf_variable[0], a, b-a)\n",
    "cdf = uniform.cdf(cdf_variable, a, b-a)\n",
    "\n",
    "# Output\n",
    "print_status(exp, var, pdf, cdf)"
   ]
  },
  {
   "cell_type": "markdown",
   "metadata": {},
   "source": [
    "## 4.2 Exponential Distribution\n",
    "\n",
    "$X\\sim Exp(\\lambda):f(x;\\lambda) = \\lambda e^{-\\lambda x}, x>0$\n",
    "\n",
    "$E(X) = \\frac{1}{\\lambda}$\n",
    "\n",
    "$Var(X) = \\frac{1}{\\lambda^2}$"
   ]
  },
  {
   "cell_type": "code",
   "execution_count": 13,
   "metadata": {},
   "outputs": [
    {
     "name": "stdout",
     "output_type": "stream",
     "text": [
      "Exp\t 0.232558\n",
      "Var\t 0.054083\n",
      "PMF\t 0.011988\n",
      "CDF\t 0.349491\n"
     ]
    }
   ],
   "source": [
    "# Input\n",
    "lamb = 4.3\n",
    "pdf_variable = [1, 1.5] # [star point, end point]\n",
    "cdf_variable = 0.1\n",
    "\n",
    "# Calculate\n",
    "exp, var = expon.stats(scale=1/lamb, moments='mv')\n",
    "pdf = expon.cdf(pdf_variable[1], scale=1/lamb) - expon.cdf(pdf_variable[0], scale=1/lamb)\n",
    "cdf = expon.cdf(cdf_variable, scale=1/lamb)\n",
    "\n",
    "# Output\n",
    "print_status(exp, var, pdf, cdf)"
   ]
  },
  {
   "cell_type": "markdown",
   "metadata": {},
   "source": [
    "## 4.3 Gamma Distribution\n",
    "\n",
    "$X\\sim Gam(k, \\lambda):f(x;k, \\lambda) = \\frac{\\lambda^k}{\\Gamma(k)}x^{k-1}e^{-\\lambda x}, x>0$\n",
    "\n",
    "Where $\\Gamma(k) = \\int_{0}^{\\infty}x^{k-1}e^{-x}dx, k>0$\n",
    "\n",
    "$E(X) = \\frac{k}{\\lambda}$\n",
    "\n",
    "$Var(X) = \\frac{k}{\\lambda^2}$"
   ]
  },
  {
   "cell_type": "code",
   "execution_count": 15,
   "metadata": {},
   "outputs": [
    {
     "name": "stdout",
     "output_type": "stream",
     "text": [
      "Exp\t 1.162791\n",
      "Var\t 0.270416\n",
      "PMF\t 0.341121\n",
      "CDF\t 0.429562\n"
     ]
    }
   ],
   "source": [
    "# Input\n",
    "k = 5\n",
    "lamb = 4.3\n",
    "pdf_variable = [1, 1.5] # [star point, end point]\n",
    "cdf_variable = 1\n",
    "\n",
    "# Calculate\n",
    "exp, var = gamma.stats(k, scale=1/lamb, moments='mv')\n",
    "pdf = gamma.cdf(pdf_variable[1], k, scale=1/lamb) - gamma.cdf(pdf_variable[0], k, scale=1/lamb)\n",
    "cdf = gamma.cdf(cdf_variable, k, scale=1/lamb)\n",
    "\n",
    "# Output\n",
    "print_status(exp, var, pdf, cdf)"
   ]
  },
  {
   "cell_type": "markdown",
   "metadata": {},
   "source": [
    "## 4.4 Weibull Distribution\n",
    "\n",
    "$X\\sim Weibull(k, \\lambda):f(x;k, \\lambda) = k\\lambda(\\lambda y)^{k-1}e^{-(\\lambda y)^k}, k>0, \\lambda>0$\n",
    "\n",
    "$E(X) = \\frac{1}{\\lambda}\\Gamma(1+\\frac{1}{k})$\n",
    "\n",
    "$Var(X) = \\frac{1}{\\lambda^2}\\{\\Gamma(1+\\frac{2}{k})-[\\Gamma(1+\\frac{1}{a})]^2\\}$"
   ]
  },
  {
   "cell_type": "code",
   "execution_count": 20,
   "metadata": {},
   "outputs": [
    {
     "name": "stdout",
     "output_type": "stream",
     "text": [
      "Exp\t 0.892980\n",
      "Var\t 0.105333\n",
      "PMF\t 0.367544\n",
      "CDF\t 0.632121\n"
     ]
    }
   ],
   "source": [
    "# Input\n",
    "k = 3\n",
    "lamb = 1\n",
    "pdf_variable = [1, 2] # [star point, end point]\n",
    "cdf_variable = 1\n",
    "\n",
    "# Calculate\n",
    "exp, var = weibull_min.stats(k, scale=1/lamb, moments='mv')\n",
    "pdf = weibull_min.cdf(pdf_variable[1], k, scale=1/lamb) - weibull_min.cdf(pdf_variable[0], k, scale=1/lamb)\n",
    "cdf = weibull_min.cdf(cdf_variable, k, scale=1/lamb)\n",
    "\n",
    "# Output\n",
    "print_status(exp, var, pdf, cdf)"
   ]
  },
  {
   "cell_type": "markdown",
   "metadata": {},
   "source": [
    "## 4.5 Beta Distribution\n",
    "\n",
    "$X\\sim Beta(\\alpha, \\beta):f(x;\\alpha, \\beta) = \\frac{\\Gamma(\\alpha + \\beta)}{\\Gamma(\\alpha)\\Gamma(\\beta)}x^{\\alpha-1}(1-x)^{\\beta-1}, 0<x<1$\n",
    "\n",
    "$E(X) = \\frac{\\alpha}{\\alpha + \\beta}$\n",
    "\n",
    "$Var(X) = \\frac{\\alpha\\beta}{(\\alpha +\\beta)^2(\\alpha + \\beta + 1)}$"
   ]
  },
  {
   "cell_type": "code",
   "execution_count": 26,
   "metadata": {},
   "outputs": [
    {
     "name": "stdout",
     "output_type": "stream",
     "text": [
      "Exp\t 0.185185\n",
      "Var\t 0.012787\n",
      "PMF\t 0.229600\n",
      "CDF\t 0.612652\n"
     ]
    }
   ],
   "source": [
    "# Input\n",
    "a = 2\n",
    "b = 8.8\n",
    "pdf_variable = [0.2, 0.3] # [star point, end point]\n",
    "cdf_variable = 0.2\n",
    "\n",
    "# Calculate\n",
    "exp, var = beta.stats(a, b, moments='mv')\n",
    "pdf = beta.cdf(pdf_variable[1], a, b) - beta.cdf(pdf_variable[0], a, b)\n",
    "cdf = beta.cdf(cdf_variable, a, b)\n",
    "\n",
    "# Output\n",
    "print_status(exp, var, pdf, cdf)"
   ]
  },
  {
   "cell_type": "markdown",
   "metadata": {},
   "source": [
    "## Addup: Calculate the Gamma Function\n",
    "\n",
    "$\\Gamma(k) = \\int_{0}^{\\infty}x^{k-1}e^{-x}dx, k>0$"
   ]
  },
  {
   "cell_type": "code",
   "execution_count": 31,
   "metadata": {},
   "outputs": [
    {
     "data": {
      "text/plain": [
       "2.0"
      ]
     },
     "execution_count": 31,
     "metadata": {},
     "output_type": "execute_result"
    }
   ],
   "source": [
    "math.gamma(3)"
   ]
  }
 ],
 "metadata": {
  "kernelspec": {
   "display_name": "Python 3",
   "language": "python",
   "name": "python3"
  },
  "language_info": {
   "codemirror_mode": {
    "name": "ipython",
    "version": 3
   },
   "file_extension": ".py",
   "mimetype": "text/x-python",
   "name": "python",
   "nbconvert_exporter": "python",
   "pygments_lexer": "ipython3",
   "version": "3.8.6"
  }
 },
 "nbformat": 4,
 "nbformat_minor": 4
}
