{
 "cells": [
  {
   "cell_type": "code",
   "execution_count": 2,
   "metadata": {},
   "outputs": [],
   "source": [
    "import math\n",
    "import numpy as np\n",
    "import pandas as pd\n",
    "import matplotlib.pyplot as plt\n",
    "import statsmodels.stats.weightstats as sms\n",
    "\n",
    "from scipy import stats"
   ]
  },
  {
   "cell_type": "markdown",
   "metadata": {},
   "source": [
    "# Chapter 9 Comapring Two Population Means"
   ]
  },
  {
   "cell_type": "markdown",
   "metadata": {},
   "source": [
    "## Paired Datasets"
   ]
  },
  {
   "cell_type": "markdown",
   "metadata": {},
   "source": [
    "Two **paired** sample sets:\n",
    "\n",
    "- $x_1, \\dots, x_n$ with $\\mu_A$\n",
    "- $y_1, \\dots, y_n$ with $\\mu_B$\n",
    "\n",
    "To test the hypothesis:\n",
    "\n",
    "$$H_0:\\mu_A=\\mu_B.versus. H_A:\\mu_A\\ne\\mu_B$$\n",
    "\n",
    "**Step 1.** - Create $z_i = x_i - y_i$ with $\\mu$\n",
    "\n",
    "**Step 2.** - Create new hypothesis $H_0:\\mu=0.versus. H_A:\\mu\\ne 0$\n",
    "\n",
    "**Step 3.** - Use t-statistics method to get the confidence interval and p-value\n",
    "\n",
    "$$(\\bar{z} - \\frac{t_{\\alpha/2, n-1}s}{\\sqrt{n}}, \\bar{z} + \\frac{t_{\\alpha/2, n-1}s}{\\sqrt{n}})$$"
   ]
  },
  {
   "cell_type": "code",
   "execution_count": 7,
   "metadata": {},
   "outputs": [
    {
     "name": "stdout",
     "output_type": "stream",
     "text": [
      "Confidence Interval\t(0.1796, 2.5704)\n",
      "P-Value\t\t\t0.0329\n"
     ]
    }
   ],
   "source": [
    "# Confidence Interval\n",
    "\n",
    "# Input\n",
    "sample_a = np.array([23.6, 27.9, 22.9, 21.8, 25.8, 30.7, 26.5, 25.4])\n",
    "sample_b = np.array([22.5, 25.6, 24.0, 20.4, 26.0, 26.6, 26.4, 22.1])\n",
    "alpha = 0.1\n",
    "\n",
    "# Calculate\n",
    "n = len(sample_a)\n",
    "z = sample_a - sample_b\n",
    "z_bar = z.mean()\n",
    "z_std = z.std(ddof=1)\n",
    "\n",
    "t = stats.t.ppf(1 - alpha / 2, n - 1)\n",
    "wing = t * z_std / math.sqrt(n)\n",
    "\n",
    "t_stats = math.sqrt(n) * (z_bar - 0) / z_std\n",
    "p_value = stats.t.sf(t_stats, n-1)\n",
    "\n",
    "# Output\n",
    "print('Confidence Interval\\t({:.4f}, {:.4f})'.format(z_bar - wing, z_bar + wing))\n",
    "print('P-Value\\t\\t\\t{:.4f}'.format(p_value))"
   ]
  },
  {
   "cell_type": "markdown",
   "metadata": {},
   "source": [
    "## Unpaired Datasets\n",
    "\n",
    "Independent Samples"
   ]
  },
  {
   "cell_type": "markdown",
   "metadata": {},
   "source": [
    "### General Method"
   ]
  },
  {
   "cell_type": "markdown",
   "metadata": {},
   "source": [
    "|    Population          | Samples                | Size | Mean          | Standard deviation |\n",
    "|--------------|------------------------|------|---------------|--------------------|\n",
    "| Population A | $$x_1, x_2,\\dots, x_n$$ | n    | $\\overline x$ | $s_x$              |\n",
    "| Population B | $$y_1, y_2,\\dots, y_m$$ | m    | $\\overline y$ | $s_y$              |"
   ]
  },
  {
   "cell_type": "markdown",
   "metadata": {},
   "source": [
    "Point estimate:\n",
    "\n",
    "$\\mu_A - \\mu_B = \\overline x - \\overline y$\n",
    "\n",
    "$se(\\overline x - \\overline y) = \\sqrt{\\frac{s^2_x}{n} + \\frac{s^2_x}{m}}$\n",
    "\n",
    "$se(\\overline x - \\overline y) = s_p \\sqrt{\\frac{1}{n} + \\frac{1}{m}}$\n",
    "\n",
    "where $s_p^2 = \\frac{(n-1)s_x^2 + (m-1) s_y^2}{n+m-2}$\n",
    "\n",
    "Two-sided $1-\\alpha$ level confidence interval for $\\mu_A-\\mu_B$ is:\n",
    "\n",
    "$$(\\bar{x} - \\bar{y} - t_{\\alpha/2, v}\\sqrt{\\frac{s_x^2}{n}+\\frac{s_y^2}{m}}, \\bar{x} - \\bar{y} + t_{\\alpha/2, v}\\sqrt{\\frac{s_x^2}{n}+\\frac{s_y^2}{m}})$$\n",
    "\n",
    "Where the degree of freedom:\n",
    "\n",
    "$$v^* = \\frac{ (s_x^2 / n + s_y^2 /m ) ^2}{ s_x^4/ n^2(n-1) + s_y^4 / m^2(m-1) }$$\n",
    "\n",
    "For $P-Value$ of $H_0:\\mu_A - \\mu_B = \\delta.versus.H_A:\\mu_A-\\mu_B\\ne\\delta$:\n",
    "\n",
    "$$T = \\frac{( \\bar{x} - \\bar{y} - \\delta)}{\\sqrt{\\frac{s_x^2}{n} + \\frac{s_y^2}{m}}}$$"
   ]
  },
  {
   "cell_type": "code",
   "execution_count": 14,
   "metadata": {},
   "outputs": [
    {
     "name": "stdout",
     "output_type": "stream",
     "text": [
      "Confidence Interval\t(-14.0430, -3.9570)\n"
     ]
    }
   ],
   "source": [
    "# Calcualte confidence interval\n",
    "\n",
    "# Input\n",
    "n = 14\n",
    "m = 14\n",
    "\n",
    "x_bar = 32.45\n",
    "y_bar = 41.45\n",
    "\n",
    "s_x = 4.3\n",
    "s_y = 5.23\n",
    "\n",
    "alpha = 0.01\n",
    "\n",
    "# Calculate\n",
    "v = (s_x ** 2 / n + s_y ** 2 / m) ** 2 / (s_x ** 4 / (n ** 2 * (n - 1)) + s_y ** 4 / (m ** 2 * (m - 1)))\n",
    "t = stats.t.ppf(1 - alpha / 2, v)\n",
    "\n",
    "wing = t * math.sqrt(s_x ** 2 / n + s_y ** 2 / m)\n",
    "\n",
    "# Output\n",
    "print('Confidence Interval\\t({:.4f}, {:.4f})'.format(x_bar - y_bar - wing, x_bar - y_bar + wing))"
   ]
  },
  {
   "cell_type": "code",
   "execution_count": 12,
   "metadata": {},
   "outputs": [
    {
     "name": "stdout",
     "output_type": "stream",
     "text": [
      "|t|\t4.9736\n",
      "P-Value\t0.0000\n"
     ]
    }
   ],
   "source": [
    "# Calculate P-Value\n",
    "\n",
    "# Input\n",
    "n = 14\n",
    "m = 14\n",
    "\n",
    "x_bar = 32.45\n",
    "y_bar = 41.45\n",
    "\n",
    "s_x = 4.3\n",
    "s_y = 5.23\n",
    "\n",
    "delta = 0\n",
    "\n",
    "# Calculate\n",
    "v = (s_x ** 2 / n + s_y ** 2 / m) ** 2 / (s_x ** 4 / (n ** 2 * (n - 1)) + s_y ** 4 / (m ** 2 * (m - 1)))\n",
    "t =  (x_bar - y_bar - delta) / math.sqrt(s_x ** 2 / n + s_y ** 2 / m)\n",
    "p_value = 2 * stats.t.sf(abs(t), v)\n",
    "\n",
    "# Output\n",
    "print('|t|\\t{:.4f}'.format(abs(t)))\n",
    "print('P-Value\\t{:.4f}'.format(p_value))"
   ]
  },
  {
   "cell_type": "markdown",
   "metadata": {},
   "source": [
    "### Pool Method"
   ]
  },
  {
   "cell_type": "markdown",
   "metadata": {},
   "source": [
    "Unbiased estimate of $\\hat{\\sigma}^2$ of $\\sigma^2$: $s_p^2 = \\frac{(n-1)s_x^2 + (m-1) s_y^2}{n+m-2}$\n",
    "\n",
    "Two-sided $1-\\alpha$ level confidence interval for $\\mu_A-\\mu_B$ is:\n",
    "\n",
    "$$(\\bar{x} - \\bar{y} - t_{\\alpha/2, m+n-2}s_p\\sqrt{\\frac{1}{n}+\\frac{1}{m}}, \\bar{x} - \\bar{y} + t_{\\alpha/2, m+n-2}s_p\\sqrt{\\frac{1}{n}+\\frac{1}{m}})$$\n",
    "\n",
    "For $P-Value$ of $H_0:\\mu_A - \\mu_B = \\delta.versus.H_A:\\mu_A-\\mu_B\\ne\\delta$:\n",
    "\n",
    "$$T = \\frac{( \\bar{x} - \\bar{y} - \\delta)}{s_p \\sqrt{\\frac{1}{n} + \\frac{1}{m}}}$$"
   ]
  },
  {
   "cell_type": "code",
   "execution_count": 16,
   "metadata": {},
   "outputs": [
    {
     "name": "stdout",
     "output_type": "stream",
     "text": [
      "Confidence Interval\t(-14.0282, -3.9718)\n"
     ]
    }
   ],
   "source": [
    "# Calcualte confidence interval\n",
    "\n",
    "# Input\n",
    "n = 14\n",
    "m = 14\n",
    "\n",
    "x_bar = 32.45\n",
    "y_bar = 41.45\n",
    "\n",
    "s_x = 4.3\n",
    "s_y = 5.23\n",
    "\n",
    "alpha = 0.01\n",
    "\n",
    "# Calculate\n",
    "sp_square = ((n - 1) * s_x ** 2 + (m - 1) * s_y ** 2) / (n + m - 2)\n",
    "t = stats.t.ppf(1 - alpha / 2, m + n - 2)\n",
    "\n",
    "wing = t * math.sqrt(sp_square) * math.sqrt(1 / n + 1 / m)\n",
    "\n",
    "# Output\n",
    "print('Confidence Interval\\t({:.4f}, {:.4f})'.format(x_bar - y_bar - wing, x_bar - y_bar + wing))"
   ]
  },
  {
   "cell_type": "code",
   "execution_count": 17,
   "metadata": {},
   "outputs": [
    {
     "name": "stdout",
     "output_type": "stream",
     "text": [
      "|t|\t4.9736\n",
      "P-Value\t0.0000\n"
     ]
    }
   ],
   "source": [
    "# Calculate P-Value\n",
    "\n",
    "# Input\n",
    "n = 14\n",
    "m = 14\n",
    "\n",
    "x_bar = 32.45\n",
    "y_bar = 41.45\n",
    "\n",
    "s_x = 4.3\n",
    "s_y = 5.23\n",
    "\n",
    "delta = 0\n",
    "\n",
    "# Calculate\n",
    "sp_square = ((n - 1) * s_x ** 2 + (m - 1) * s_y ** 2) / (n + m - 2)\n",
    "t =  (x_bar - y_bar - delta) / (math.sqrt(sp_square) * math.sqrt(1 / n + 1 / m))\n",
    "p_value = 2 * stats.t.sf(abs(t), n + m - 2)\n",
    "\n",
    "# Output\n",
    "print('|t|\\t{:.4f}'.format(abs(t)))\n",
    "print('P-Value\\t{:.4f}'.format(p_value))"
   ]
  },
  {
   "cell_type": "markdown",
   "metadata": {},
   "source": [
    "### Z-test Method\n",
    "\n",
    "If those two variances are known.\n",
    "\n",
    "Two-sided $1-\\alpha$ level confidence interval for $\\mu_A-\\mu_B$ is:\n",
    "\n",
    "$$(\\overline x - \\overline y - z_{\\alpha/2}\\sqrt{ \\frac{\\sigma^2_A}{n} + \\frac{\\sigma^2_B}{m}}, (\\overline x - \\overline y + z_{\\alpha/2}\\sqrt{ \\frac{\\sigma^2_A}{n} + \\frac{\\sigma^2_B}{m}})$$\n",
    "\n",
    "For $P-Value$ of $H_0:\\mu_A - \\mu_B = \\delta.versus.H_A:\\mu_A-\\mu_B\\ne\\delta$:\n",
    "\n",
    "$$Z = \\frac{\\overline x - \\overline y - \\delta}{ \\sqrt{ \\frac{\\sigma^2_A}{n} + \\frac{\\sigma^2_B}{m} } } \\sim N(0,1)$$"
   ]
  },
  {
   "cell_type": "code",
   "execution_count": 21,
   "metadata": {},
   "outputs": [
    {
     "name": "stdout",
     "output_type": "stream",
     "text": [
      "Confidence Interval\t(-1.7150, 0.3930)\n"
     ]
    }
   ],
   "source": [
    "# Calcualte confidence interval\n",
    "\n",
    "# Input\n",
    "n = 38\n",
    "m = 40\n",
    "\n",
    "x_bar = 5.782\n",
    "y_bar = 6.443\n",
    "\n",
    "sigma_x = 2\n",
    "sigma_y = 2\n",
    "\n",
    "alpha = 0.01\n",
    "\n",
    "# Calculate\n",
    "z = stats.norm.ppf(1 - alpha / 2)\n",
    "wing = z * math.sqrt(sigma_x ** 2 / n + sigma_y ** 2 / m)\n",
    "\n",
    "# Output\n",
    "print('Confidence Interval\\t({:.4f}, {:.4f})'.format(x_bar - y_bar - wing, x_bar - y_bar + wing))"
   ]
  },
  {
   "cell_type": "code",
   "execution_count": 23,
   "metadata": {},
   "outputs": [
    {
     "name": "stdout",
     "output_type": "stream",
     "text": [
      "P-Value\t0.0723\n"
     ]
    }
   ],
   "source": [
    "# Calculate P-Value\n",
    "\n",
    "# Input\n",
    "n = 38\n",
    "m = 40\n",
    "\n",
    "x_bar = 5.782\n",
    "y_bar = 6.443\n",
    "\n",
    "sigma_x = 2\n",
    "sigma_y = 2\n",
    "\n",
    "delta = 0\n",
    "\n",
    "# Calculate\n",
    "z = (x_bar - y_bar - delta) / math.sqrt(sigma_x ** 2 / n + sigma_y ** 2 / m)\n",
    "p_value = stats.norm.cdf(z)\n",
    "\n",
    "# Output\n",
    "print('P-Value\\t{:.4f}'.format(p_value))"
   ]
  }
 ],
 "metadata": {
  "kernelspec": {
   "display_name": "Python 3",
   "language": "python",
   "name": "python3"
  },
  "language_info": {
   "codemirror_mode": {
    "name": "ipython",
    "version": 3
   },
   "file_extension": ".py",
   "mimetype": "text/x-python",
   "name": "python",
   "nbconvert_exporter": "python",
   "pygments_lexer": "ipython3",
   "version": "3.8.6"
  }
 },
 "nbformat": 4,
 "nbformat_minor": 4
}
