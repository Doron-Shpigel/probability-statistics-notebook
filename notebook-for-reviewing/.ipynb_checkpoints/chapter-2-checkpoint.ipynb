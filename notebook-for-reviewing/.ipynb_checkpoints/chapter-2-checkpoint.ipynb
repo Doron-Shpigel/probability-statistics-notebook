{
 "cells": [
  {
   "cell_type": "code",
   "execution_count": 2,
   "metadata": {},
   "outputs": [],
   "source": [
    "from scipy.stats import expon\n",
    "from sympy import symbols\n",
    "from sympy import integrate\n",
    "import numpy as np"
   ]
  },
  {
   "cell_type": "markdown",
   "metadata": {},
   "source": [
    "# Chapter 2 Random Variables\n",
    "\n",
    "## 2.0 Random Variables\n",
    "\n",
    "**Random variable** $X: S\\to R$, from sample spcae to real line (as the domian of probability function).\n",
    "\n",
    "**Probability functions** $P(x): R\\to [0, 1]$, from real line to the value of probabiliy. "
   ]
  },
  {
   "cell_type": "markdown",
   "metadata": {},
   "source": [
    "## 2.1 Discrete Variables\n",
    "\n",
    "Discrete random variables\n",
    "- Probability Mass Function (**p.m.f.**)\n",
    "- Cumulative Distribution Function (**c.d.f.**)\n",
    "- Expectation $E(X) = \\sum_i p_ix_i$"
   ]
  },
  {
   "cell_type": "code",
   "execution_count": 7,
   "metadata": {},
   "outputs": [
    {
     "name": "stdout",
     "output_type": "stream",
     "text": [
      "Expectation: 3.0\n"
     ]
    }
   ],
   "source": [
    "# Calculate the expectation\n",
    "\n",
    "# Input\n",
    "x = [1, 2, 3, 4, 5]\n",
    "p = [0.2, 0.2, 0.2, 0.2, 0.2]\n",
    "\n",
    "# Cal\n",
    "exp = 0\n",
    "for i, j in zip(x, p):\n",
    "    exp += i * j\n",
    "\n",
    "# Output\n",
    "print('Expectation: {}'.format(exp))"
   ]
  },
  {
   "cell_type": "markdown",
   "metadata": {},
   "source": [
    "## 2.2 Continuous Variables\n",
    "\n",
    "Continous random variables\n",
    "- Probability Density Function (p.d.f.)\n",
    "- Cumulative Distribution Function (c.d.f.)\n",
    "- Expectation $E(X) = \\int_{-\\infty}^{\\infty}xf(x)dx$"
   ]
  },
  {
   "cell_type": "code",
   "execution_count": 12,
   "metadata": {},
   "outputs": [
    {
     "name": "stdout",
     "output_type": "stream",
     "text": [
      "Cumulation from 49.5 to 50.5: 1.000000\n"
     ]
    }
   ],
   "source": [
    "# Calculate the c.d.f\n",
    "x = symbols('x')\n",
    "\n",
    "# Input\n",
    "func = 1.5 - 6 * (x - 50) ** 2\n",
    "domain = (49.5, 50.5)\n",
    "\n",
    "# Cal\n",
    "cumulation = integrate(func, (x, domain[0], domain[1])) # N.B. You can use 'oo' to denote \\infty\n",
    "\n",
    "# Output\n",
    "print('Cumulation from {} to {}: {:.6f}'.format(domain[0], domain[1], cumulation))"
   ]
  },
  {
   "cell_type": "code",
   "execution_count": 14,
   "metadata": {},
   "outputs": [
    {
     "name": "stdout",
     "output_type": "stream",
     "text": [
      "Expectation: 50.000000\n"
     ]
    }
   ],
   "source": [
    "# Calculate the expectation\n",
    "x = symbols('x')\n",
    "\n",
    "# Input\n",
    "func = 1.5 - 6 * (x - 50) ** 2\n",
    "domain = (49.5, 50.5)\n",
    "\n",
    "# Cal\n",
    "exp = integrate(x * func, (x, domain[0], domain[1]))\n",
    "\n",
    "# Output\n",
    "print('Expectation: {:.6f}'.format(exp))"
   ]
  },
  {
   "cell_type": "markdown",
   "metadata": {},
   "source": [
    "## 2.3 Expectation and Variance\n",
    "\n",
    "Variance of random variables\n",
    "\n",
    "$$Var(X) = E(X-E(X))^2 = E(X^2) - E(X)^2$$"
   ]
  },
  {
   "cell_type": "code",
   "execution_count": 17,
   "metadata": {},
   "outputs": [
    {
     "name": "stdout",
     "output_type": "stream",
     "text": [
      "Variance: 2.0\n"
     ]
    }
   ],
   "source": [
    "# Calculate the variance for discrete variables\n",
    "\n",
    "# Input\n",
    "x = [1, 2, 3, 4, 5]\n",
    "p = [0.2, 0.2, 0.2, 0.2, 0.2]\n",
    "\n",
    "# Cal\n",
    "exp = 0\n",
    "exp2 = 0\n",
    "for i, j in zip(x, p):\n",
    "    exp += i * j\n",
    "    exp2 += i * i * j\n",
    "var = exp2 - exp ** 2\n",
    "\n",
    "# Output\n",
    "print('Variance: {:.4f}'.format(var))"
   ]
  },
  {
   "cell_type": "code",
   "execution_count": 4,
   "metadata": {},
   "outputs": [
    {
     "name": "stdout",
     "output_type": "stream",
     "text": [
      "Variance: 2450.0500\n"
     ]
    }
   ],
   "source": [
    "# Calculate the variance for continuous variance\n",
    "x = symbols('x')\n",
    "\n",
    "# Input\n",
    "func = 1.5 - 6 * (x - 50) ** 2\n",
    "domain = (49.5, 50.5)\n",
    "\n",
    "# Cal\n",
    "exp = integrate(x * func, (x, domain[0], domain[1]))\n",
    "exp2 = integrate(x * x * func, (x, domain[0], domain[1]))\n",
    "var = exp2 - exp\n",
    "\n",
    "# Output\n",
    "print('Variance: {:.4f}'.format(var))"
   ]
  },
  {
   "cell_type": "markdown",
   "metadata": {},
   "source": [
    "Quantiles of Random Variables\n",
    "- Upper quartile $Q_3$: c.d.f. = 0.75\n",
    "- Lower quartile $Q_1$: c.d.f. = 0.25\n",
    "- Interquartile range $IQR$: $Q_3 - Q_1$"
   ]
  },
  {
   "cell_type": "code",
   "execution_count": null,
   "metadata": {},
   "outputs": [],
   "source": [
    "# Calculate the Q1\n",
    "# TODO\n",
    "x = symbols('x')\n",
    "y = symbols('y')\n",
    "\n",
    "# Input\n",
    "func = 1.5 - 6 * (x - 50) ** 2\n",
    "domain = (49.5, 50.5)\n",
    "\n",
    "# Cal\n",
    "cumulation = integrate(func, (x, domain[0], domain[1])) # N.B. You can use 'oo' to denote \\infty\n",
    "func = integrate(func, (x, domain[0], y))\n",
    "\n",
    "# Output\n",
    "print('Cumulation from {} to {}: {:.6f}'.format(domain[0], domain[1], cumulation))"
   ]
  },
  {
   "cell_type": "markdown",
   "metadata": {},
   "source": [
    "Chebyshev's Inequality\n",
    "\n",
    "$$P(\\mu -c \\sigma \\leq X \\leq \\mu + c \\sigma) \\geq 1-\\frac{1}{c^2}, c\\geq 1$$"
   ]
  },
  {
   "cell_type": "markdown",
   "metadata": {},
   "source": [
    "## 2.4 Jointly Distributed Random Variables\n",
    "\n",
    "Discrete jointly distribution random variables\n",
    "\\begin{equation}   \n",
    "    P(X = x_i, Y = y_j) = p_{ij} \\geq 0 \\text{ satisfying } \\sum_i \\sum_j p_{ij} = 1\n",
    "\\end{equation}\n",
    "\n",
    "Continuous jointly distribution random variables\n",
    "\\begin{equation}\n",
    "    f(x,y) \\geq 0 \\text{ satisfying } \\int \\int f(x,y) dxdy= 1\n",
    "\\end{equation}\n",
    "\n",
    "Cumulative Distribution Function: \n",
    "\\begin{equation}   \n",
    "    F(x,y) = P(X \\leq x_j, Y \\leq y_j)\n",
    "\\end{equation}\n",
    "    Discrete CDF\n",
    "    \\begin{equation}   \n",
    "        F(x,y) = \\sum_{i:x_i \\leq x} \\sum_{j:y_j \\leq y} p_{ij}\n",
    "    \\end{equation}\n",
    "    Continuous CDF\n",
    "    \\begin{equation}   \n",
    "        F(x,y) = \\int_{- \\infty}^{ y} \\int_{- \\infty}^{ x} f(w, z) dwdz\n",
    "    \\end{equation}"
   ]
  },
  {
   "cell_type": "markdown",
   "metadata": {},
   "source": [
    "## 2.5 Covarance and Covv\n",
    "\n",
    "$Cov(X, Y) = E(XY) - E(X)E(Y)$\n",
    "\n",
    "$Corr(X, Y) = \\frac{Cov(X, Y)}{\\sqrt{Var(X)Var(Y)}}$"
   ]
  },
  {
   "cell_type": "code",
   "execution_count": 3,
   "metadata": {},
   "outputs": [
    {
     "name": "stdout",
     "output_type": "stream",
     "text": [
      "Expectation of x:  1.79\n",
      "Expectation of y:  2.59\n",
      "Variance of x:  0.3858999999999999\n",
      "Variance of y:  1.161900000000001\n",
      "Covariance:  0.22389999999999954\n",
      "Correlation:   0.33437386749732556\n"
     ]
    }
   ],
   "source": [
    "# Calculate the Covarance for discrete\n",
    "\n",
    "# Input [X * Y]\n",
    "value_x = np.array([1, 2, 3])\n",
    "value_y = np.array([1, 2, 3, 4])\n",
    "prob_matrix = np.array([[0.12, 0.08, 0.07, 0.05], [0.08, 0.15, 0.21, 0.13], [0.01, 0.01, 0.02, 0.07]])\n",
    "\n",
    "# Cal expectation of x\n",
    "exp_x =  0\n",
    "for i in range(len(value_x)):\n",
    "    exp_x += value_x[i] * np.sum(prob_matrix, axis=1)[i]\n",
    "\n",
    "# Cal expectation of y\n",
    "exp_y = 0\n",
    "for i in range(len(value_y)):\n",
    "    exp_y += value_y[i] * np.sum(prob_matrix, axis=0)[i]\n",
    "    \n",
    "# Cal variance of x\n",
    "exp_x2 = 0\n",
    "for i in range(len(value_x)):\n",
    "    exp_x2 += (value_x[i] ** 2) * np.sum(prob_matrix, axis=1)[i]\n",
    "var_x = exp_x2 - (exp_x ** 2)\n",
    "\n",
    "# Cal variance of y\n",
    "exp_y2 = 0\n",
    "for i in range(len(value_y)):\n",
    "    exp_y2 += (value_y[i] ** 2) * np.sum(prob_matrix, axis=0)[i]\n",
    "var_y = exp_y2 - (exp_y ** 2)\n",
    "\n",
    "# Cal covarance\n",
    "exp_xy = 0\n",
    "for i in range(len(value_x)):\n",
    "    for j in range(len(value_y)):\n",
    "        exp_xy += value_x[i] * value_y[j] * prob_matrix[i, j]\n",
    "cov = exp_xy - exp_x * exp_y\n",
    "\n",
    "## Cal correlation\n",
    "corr = cov / ((var_x * var_y) ** (1/2))\n",
    "        \n",
    "# Output\n",
    "print('EXP X\\t {:.4f}\\nEXP Y\\t {:.4f}\\nVAR X\\t {:.4f}\\nVAR Y\\t \\\n",
    "{:.4f}\\nCOV\\t {:.4f}\\nCORR\\t {:.4f}'.format(exp_x, exp_y, var_x, var_y, cov, corr))"
   ]
  },
  {
   "cell_type": "code",
   "execution_count": 33,
   "metadata": {},
   "outputs": [
    {
     "name": "stdout",
     "output_type": "stream",
     "text": [
      "EXP X\t 2.4444\n",
      "EXP Y\t 5.5833\n",
      "VAR X\t -4.1420\n",
      "VAR Y\t -22.3736\n",
      "COV\t -9.9259\n",
      "CORR\t -1.0311\n"
     ]
    }
   ],
   "source": [
    "# Calculate the Covarance for continous\n",
    "x = symbols('x')\n",
    "y = symbols('y')\n",
    "\n",
    "# Input\n",
    "func = 8 * x * y - 2 * x * (y ** 2)\n",
    "domain_x = (0, 1)\n",
    "domain_y = (1, 2)\n",
    "\n",
    "# Cal expectation of x\n",
    "exp_x = float(integrate(x * integrate(func, (y, domain_y[0], domain_y[1])), (x, domain_x[0], domain_x[1])))\n",
    "\n",
    "# Cal expectation of y\n",
    "exp_y = float(integrate(y * integrate(func, (x, domain_x[0], domain_x[1])), (y, domain_y[0], domain_y[1]), (y, domain_y[0], domain_y[1])))\n",
    "\n",
    "# Cal variance of x\n",
    "exp_x2 = float(integrate(x * x * integrate(func, (y, domain_y[0], domain_y[1])), (x, domain_x[0], domain_x[1])))\n",
    "var_x = exp_x2 - exp_x ** 2\n",
    "\n",
    "# Cal variance of y\n",
    "exp_y2 = float(integrate(y * y * integrate(func, (x, domain_x[0], domain_x[1])), (y, domain_y[0], domain_y[1])))\n",
    "var_y = exp_y2 - exp_y ** 2\n",
    "\n",
    "# Cal covarance\n",
    "exp_xy = float(integrate(x * y * func, (x, domain_x[0], domain_x[1]), (y, domain_y[0], domain_y[1])))\n",
    "cov = exp_xy - exp_x * exp_y\n",
    "\n",
    "# Cal correlation\n",
    "corr = cov/(var_x * var_y) ** (1/2)\n",
    "\n",
    "# Output\n",
    "print('EXP X\\t {:.4f}\\nEXP Y\\t {:.4f}\\nVAR X\\t {:.4f}\\nVAR Y\\t \\\n",
    "{:.4f}\\nCOV\\t {:.4f}\\nCORR\\t {:.4f}'.format(exp_x, exp_y, var_x, var_y, cov, corr))"
   ]
  },
  {
   "cell_type": "markdown",
   "metadata": {},
   "source": [
    "## 2.6 Combinations and Functions of Random Variables\n",
    "\n",
    "$E(aX+b) = aE(X) + b$\n",
    "\n",
    "$E(X_1+X_2) = E(X_1) + E(X_2)$\n",
    "\n",
    "$E(\\bar{X}) = E(X)$\n",
    "\n",
    "$Var(aX+b) = a^2Var(X)$\n",
    "\n",
    "$Var(X_1+X_2) = Var(X_1) + Var(X_2) + 2Cov(X_1, X_2)$\n",
    "\n",
    "$Var(\\bar{X}) = \\frac{\\sigma^2}{n}$"
   ]
  }
 ],
 "metadata": {
  "kernelspec": {
   "display_name": "Python 3",
   "language": "python",
   "name": "python3"
  },
  "language_info": {
   "codemirror_mode": {
    "name": "ipython",
    "version": 3
   },
   "file_extension": ".py",
   "mimetype": "text/x-python",
   "name": "python",
   "nbconvert_exporter": "python",
   "pygments_lexer": "ipython3",
   "version": "3.8.5"
  }
 },
 "nbformat": 4,
 "nbformat_minor": 4
}
