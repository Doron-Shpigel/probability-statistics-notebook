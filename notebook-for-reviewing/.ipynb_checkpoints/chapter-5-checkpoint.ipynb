{
 "cells": [
  {
   "cell_type": "code",
   "execution_count": 1,
   "metadata": {},
   "outputs": [],
   "source": [
    "from scipy.stats import norm\n",
    "import math"
   ]
  },
  {
   "cell_type": "code",
   "execution_count": 2,
   "metadata": {},
   "outputs": [],
   "source": [
    "def print_status(exp, var, pmf, cdf):\n",
    "    print('Exp\\t {:.6f}\\nVar\\t {:.6f}\\nPMF\\t {:.6f}\\nCDF\\t {:.6f}'.format(exp, var, pmf, cdf))"
   ]
  },
  {
   "cell_type": "markdown",
   "metadata": {},
   "source": [
    "# Chapter 5 Normal Distribution\n",
    "\n",
    "$X\\sim N(\\mu, \\sigma^2):f(x;\\mu, \\sigma) = \\frac{1}{\\sqrt{2\\pi}\\sigma}e^{-\\frac{(x-\\mu)^2}{2\\sigma^2}}$\n",
    "\n",
    "The standard normal distribution\n",
    "\n",
    "$X\\sim N(0, 1): f(x) = \\frac{1}{\\sqrt{2\\pi}}e^{-\\frac{x^2}{2}}$"
   ]
  },
  {
   "cell_type": "code",
   "execution_count": 7,
   "metadata": {},
   "outputs": [
    {
     "name": "stdout",
     "output_type": "stream",
     "text": [
      "Exp\t 1320.000000\n",
      "Var\t 225.000000\n",
      "PMF\t 0.091211\n",
      "CDF\t 0.091211\n"
     ]
    }
   ],
   "source": [
    "# Input\n",
    "mu = 1320\n",
    "sigma = 15\n",
    "pdf_variable = [0, 1300] # [star point, end point]\n",
    "cdf_variable = 1300\n",
    "\n",
    "# Calculate\n",
    "exp, var = norm.stats(loc=mu, scale=sigma, moments='mv')\n",
    "pdf = norm.cdf(pdf_variable[1], loc=mu, scale=sigma) - \\\n",
    "norm.cdf(pdf_variable[0], loc=mu, scale=sigma)\n",
    "cdf = norm.cdf(cdf_variable, loc=mu, scale=sigma)\n",
    "\n",
    "# Output\n",
    "print_status(exp, var, pdf, cdf)"
   ]
  },
  {
   "cell_type": "markdown",
   "metadata": {},
   "source": [
    "## Linear combinations of normal distribution\n",
    "\n",
    "$X\\sim N(\\mu, \\sigma^2)\\Longrightarrow aX+b\\sim N(a\\mu+b, a^2\\sigma^2)$\n",
    "\n",
    "$X_1\\sim N(\\mu_1, \\sigma_1^2), X_2\\sim N(\\mu_2, \\sigma_2^2)\\Longrightarrow X_1+X_2\\sim N(\\mu_1+\\mu_2, \\sigma_1^2+\\sigma_2^2)$\n",
    "\n",
    "$X\\sim N(\\mu, \\sigma^2)\\Longrightarrow \\bar{X}\\sim N(\\mu, \\frac{\\sigma^2}{n})$"
   ]
  },
  {
   "cell_type": "markdown",
   "metadata": {},
   "source": [
    "## Approximating distribution with normal distribution\n",
    "\n",
    "$X\\sim B(n, p), Z\\sim N(0, 1)$ we have:\n",
    "\n",
    "- $P(X\\leq x)\\approx P(Z\\leq\\frac{x+0.5-np}{\\sqrt{np(1-p)}})$\n",
    "\n",
    "- $P(X\\geq x)\\approx P(Z\\geq\\frac{x-0.5-np}{\\sqrt{np(1-p)}})$"
   ]
  },
  {
   "cell_type": "code",
   "execution_count": 6,
   "metadata": {},
   "outputs": [
    {
     "name": "stdout",
     "output_type": "stream",
     "text": [
      "Exp\t 20.000000\n",
      "Var\t 256.000000\n",
      "PMF\t 0.159621\n",
      "CDF\t 0.503117\n"
     ]
    }
   ],
   "source": [
    "# Input\n",
    "n = 100\n",
    "p = 0.2\n",
    "pdf_variable_x = [0, 50] # [star point, end point]\n",
    "cdf_variable_x = 100\n",
    "\n",
    "# Calculate the value\n",
    "mu = n * p\n",
    "sigma = n * p * (1 - p)\n",
    "def approxmate(x, mu, sigma):\n",
    "    return (x + 0.5 - mu) / (sigma ** (1/2))\n",
    "pdf_variable = [approxmate(pdf_variable_x[0], mu, sigma), \\\n",
    "                approxmate(pdf_variable_x[1], mu, sigma)] # [star point, end point]\n",
    "cdf_variable = approxmate(cdf_variable_x, mu, sigma)\n",
    "\n",
    "# Calculate\n",
    "exp, var = norm.stats(loc=mu, scale=sigma, moments='mv')\n",
    "pdf = norm.cdf(pdf_variable[1], loc=mu, scale=sigma) - norm.cdf(pdf_variable[0], loc=mu, scale=sigma)\n",
    "cdf = norm.cdf(cdf_variable, loc=mu, scale=sigma)\n",
    "\n",
    "# Output\n",
    "print_status(exp, var, pdf, cdf)"
   ]
  },
  {
   "cell_type": "markdown",
   "metadata": {},
   "source": [
    "## Central limit theorem\n",
    "\n",
    "$X_1, X_2, \\dots, X_n$ are independent and have the same mean $\\mu$ and the same variance $\\sigma^2$, then \n",
    "\n",
    "$$\\bar{X} = \\frac{\\sum_i^nX_i}{n}\\approx N(\\mu, \\frac{\\sigma^2}{n})$$\n",
    "\n",
    "for $n \\to \\infty$"
   ]
  }
 ],
 "metadata": {
  "kernelspec": {
   "display_name": "Python 3",
   "language": "python",
   "name": "python3"
  },
  "language_info": {
   "codemirror_mode": {
    "name": "ipython",
    "version": 3
   },
   "file_extension": ".py",
   "mimetype": "text/x-python",
   "name": "python",
   "nbconvert_exporter": "python",
   "pygments_lexer": "ipython3",
   "version": "3.8.6"
  }
 },
 "nbformat": 4,
 "nbformat_minor": 4
}
