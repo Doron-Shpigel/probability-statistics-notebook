{
 "cells": [
  {
   "cell_type": "code",
   "execution_count": 2,
   "metadata": {},
   "outputs": [],
   "source": [
    "import math\n",
    "import numpy as np\n",
    "import pandas as pd\n",
    "import matplotlib.pyplot as plt\n",
    "import statsmodels.stats.weightstats as sms\n",
    "\n",
    "from scipy import stats"
   ]
  },
  {
   "cell_type": "markdown",
   "metadata": {},
   "source": [
    "# Chapter 8 Inferences on a Population Mean"
   ]
  },
  {
   "cell_type": "markdown",
   "metadata": {},
   "source": [
    "## Confidence Intervals"
   ]
  },
  {
   "cell_type": "markdown",
   "metadata": {},
   "source": [
    "**Confidence Interval** - for unknown parameter, the interval contains a set of possible values. \n",
    "\n",
    "**Confidence Level $1-\\alpha$** - probability for the parameter within the interval. "
   ]
  },
  {
   "cell_type": "markdown",
   "metadata": {},
   "source": [
    "### Two-sided t-interval\n",
    "\n",
    "Requirements: \n",
    "\n",
    "- Continuous data set, length = $n$\n",
    "- Sample mean $\\bar{x}$\n",
    "- Sample standard $s$\n",
    "- **N.B.** Real standard deviation is UNKNOWN. \n",
    "\n",
    "Real mean $\\mu$ $1-\\alpha$ confidence interval would be \n",
    "\n",
    "$$\\left( \\bar{x} - \\frac{t_{\\alpha/2, n-1} S}{\\sqrt{n}}, \\bar{x} + \\frac{t_{\\alpha/2, n-1} S}{\\sqrt{n}} \\right)$$\n",
    "\n",
    "T distribution:\n",
    "\n",
    "$$T = \\frac{\\bar{X} - \\mu}{S/\\sqrt{n}} \\sim t_{n-1}$$"
   ]
  },
  {
   "cell_type": "code",
   "execution_count": 7,
   "metadata": {},
   "outputs": [
    {
     "name": "stdout",
     "output_type": "stream",
     "text": [
      "T Statistics Value\t1.6711\n",
      "Interval Length\t\t0.0578\n",
      "Confidece Interval\t(49.9710, 50.0288)\n"
     ]
    }
   ],
   "source": [
    "# Two-sided t-interval\n",
    "\n",
    "# Input\n",
    "n = 60\n",
    "s = 0.134\n",
    "x_bar = 49.9999\n",
    "alpha = 0.1\n",
    "\n",
    "# Calculate\n",
    "t = stats.t.ppf(1 - alpha / 2, n - 1)\n",
    "wing = t * s / math.sqrt(n)\n",
    "\n",
    "# Output\n",
    "print('T Statistics Value\\t{:.4f}'.format(t))\n",
    "print('Interval Length\\t\\t{:.4f}'.format(2 * wing))\n",
    "print('Confidece Interval\\t({:.4f}, {:.4f})'.format(x_bar - wing, x_bar + wing))"
   ]
  },
  {
   "cell_type": "markdown",
   "metadata": {},
   "source": [
    "### One-sided t-interval\n",
    "\n",
    "Real mean $\\mu$ with $1-\\alpha$ confidence interval would be\n",
    "\n",
    "$$\\left( -\\infty, \\bar{x} + \\frac{t_{\\alpha, n-1} S}{\\sqrt{n}} \\right)$$\n",
    "\n",
    "$$\\left( \\bar{x} - \\frac{t_{\\alpha, n-1} S}{\\sqrt{n}}, +\\infty \\right)$$"
   ]
  },
  {
   "cell_type": "code",
   "execution_count": 9,
   "metadata": {},
   "outputs": [
    {
     "name": "stdout",
     "output_type": "stream",
     "text": [
      "T Statistics Value\t1.2961\n",
      "----- Upper Bound -----\n",
      "Confidece Interval\t(-inf, 50.0223)\n",
      "----- Lower Bound -----\n",
      "Confidece Interval\t(49.9775, +inf)\n"
     ]
    }
   ],
   "source": [
    "# One-sided t-interval\n",
    "\n",
    "# Input\n",
    "n = 60\n",
    "s = 0.134\n",
    "x_bar = 49.9999\n",
    "alpha = 0.1\n",
    "\n",
    "# Calculate\n",
    "t = stats.t.ppf(1 - alpha, n - 1)\n",
    "wing = t * s / math.sqrt(n)\n",
    "\n",
    "# Output\n",
    "print('T Statistics Value\\t{:.4f}'.format(t))\n",
    "print('----- Upper Bound -----')\n",
    "print('Confidece Interval\\t(-inf, {:.4f})'.format(x_bar + wing))\n",
    "print('----- Lower Bound -----')\n",
    "print('Confidece Interval\\t({:.4f}, +inf)'.format(x_bar - wing))"
   ]
  },
  {
   "cell_type": "markdown",
   "metadata": {},
   "source": [
    "### Two-sided z-interval\n",
    "\n",
    "Real mean $\\mu$ with $1-\\alpha$ confidence interval would be \n",
    "\n",
    "$$\\left( \\bar{x} - \\frac{z_{\\alpha/2,} \\sigma}{\\sqrt{n}}, \\bar{x} + \\frac{z_{\\alpha/2} \\sigma}{\\sqrt{n}} \\right)$$"
   ]
  },
  {
   "cell_type": "code",
   "execution_count": 10,
   "metadata": {},
   "outputs": [
    {
     "name": "stdout",
     "output_type": "stream",
     "text": [
      "T Statistics Value\t1.6449\n",
      "Interval Length\t\t0.0569\n",
      "Confidece Interval\t(49.9714, 50.0284)\n"
     ]
    }
   ],
   "source": [
    "# Two-sided z-interval\n",
    "\n",
    "# Input\n",
    "n = 60\n",
    "sigma = 0.134\n",
    "x_bar = 49.9999\n",
    "alpha = 0.1\n",
    "\n",
    "# Calculate\n",
    "z = stats.norm.ppf(1 - alpha / 2)\n",
    "wing = z * sigma / math.sqrt(n)\n",
    "\n",
    "# Output\n",
    "print('T Statistics Value\\t{:.4f}'.format(z))\n",
    "print('Interval Length\\t\\t{:.4f}'.format(2 * wing))\n",
    "print('Confidece Interval\\t({:.4f}, {:.4f})'.format(x_bar - wing, x_bar + wing))"
   ]
  },
  {
   "cell_type": "code",
   "execution_count": 11,
   "metadata": {},
   "outputs": [
    {
     "name": "stdout",
     "output_type": "stream",
     "text": [
      "T Statistics Value\t1.2961\n",
      "----- Upper Bound -----\n",
      "Confidece Interval\t(-inf, 50.0223)\n",
      "----- Lower Bound -----\n",
      "Confidece Interval\t(49.9775, +inf)\n"
     ]
    }
   ],
   "source": [
    "# One-sided t-interval\n",
    "\n",
    "# Input\n",
    "n = 60\n",
    "sigma = 0.134\n",
    "x_bar = 49.9999\n",
    "alpha = 0.1\n",
    "\n",
    "# Calculate\n",
    "z = stats.norm.ppf(1 - alpha, n - 1)\n",
    "wing = t * sigma / math.sqrt(n)\n",
    "\n",
    "# Output\n",
    "print('T Statistics Value\\t{:.4f}'.format(t))\n",
    "print('----- Upper Bound -----')\n",
    "print('Confidece Interval\\t(-inf, {:.4f})'.format(x_bar + wing))\n",
    "print('----- Lower Bound -----')\n",
    "print('Confidece Interval\\t({:.4f}, +inf)'.format(x_bar - wing))"
   ]
  },
  {
   "cell_type": "markdown",
   "metadata": {},
   "source": [
    "## Hypothesis"
   ]
  },
  {
   "cell_type": "markdown",
   "metadata": {},
   "source": [
    "**Null Hypothesis $H_0$** - designate possible value.\n",
    "\n",
    "**Alternative Hypothesis $H_A$** - opposite of null hypothesis.\n",
    "\n",
    "Two-sided hypothesis:\n",
    "\n",
    "$$H_0:\\mu = \\mu_0.versus.H_A:\\mu\\ne\\mu_0$$\n",
    "\n",
    "One-sided hypothesis:\n",
    "\n",
    "$$H_0:\\mu \\leq \\mu_0.versus.H_A:\\mu > \\mu_0$$\n",
    "\n",
    "$$H_0:\\mu \\geq \\mu_0.versus.H_A:\\mu < \\mu_0$$\n",
    "\n",
    "$p-value$ - probability of making null hypothesis true. \n",
    "\n",
    "- $p-value < significance level$ - reject null hypothesis\n",
    "- $p-value \\geq significance level$ - accept null hypothesis\n",
    "- **N.B.** null hypothesis may not be true"
   ]
  },
  {
   "cell_type": "code",
   "execution_count": 14,
   "metadata": {},
   "outputs": [
    {
     "name": "stdout",
     "output_type": "stream",
     "text": [
      "P-Value\t0.9336\n"
     ]
    }
   ],
   "source": [
    "# Two-sided t-test\n",
    "\n",
    "# Input\n",
    "n = 60\n",
    "s = 0.1334\n",
    "x_bar = 49.99856\n",
    "mu_0 = 50\n",
    "\n",
    "# Calculate\n",
    "t = (x_bar - mu_0) / (s / math.sqrt(n))\n",
    "p_value = 2 * stats.t.sf(abs(t), n - 1)\n",
    "\n",
    "# Outpu \n",
    "print('P-Value\\t{:.4f}'.format(p_value))"
   ]
  },
  {
   "cell_type": "code",
   "execution_count": 16,
   "metadata": {},
   "outputs": [
    {
     "name": "stdout",
     "output_type": "stream",
     "text": [
      "P-Value\t0.5332\n"
     ]
    }
   ],
   "source": [
    "# One-sided t-test\n",
    "\n",
    "# Input\n",
    "n = 60\n",
    "s = 0.1334\n",
    "x_bar = 49.99856\n",
    "mu_0 = 50\n",
    "\n",
    "# Calculate\n",
    "t = (x_bar - mu_0) / (s / math.sqrt(n))\n",
    "p_value = stats.t.cdf(abs(t), n - 1)\n",
    "\n",
    "# Outpu \n",
    "print('P-Value\\t{:.4f}'.format(p_value))"
   ]
  },
  {
   "cell_type": "code",
   "execution_count": 17,
   "metadata": {},
   "outputs": [
    {
     "name": "stdout",
     "output_type": "stream",
     "text": [
      "Acceptance Region\t(49.9698, 50.0273)\n"
     ]
    }
   ],
   "source": [
    "# Two-sided acceptance region\n",
    "\n",
    "# Input\n",
    "n = 60\n",
    "s = 0.1334\n",
    "x_bar = 49.99856\n",
    "mu_0 = 50\n",
    "alpha = 0.1\n",
    "\n",
    "# Calculate \n",
    "t = stats.t.ppf(1 - alpha / 2, n - 1)\n",
    "wing = t * (s / math.sqrt(n))\n",
    "\n",
    "# Output\n",
    "print('Acceptance Region\\t({:.4f}, {:.4f})'.format(x_bar - wing, x_bar + wing))"
   ]
  },
  {
   "cell_type": "code",
   "execution_count": 18,
   "metadata": {},
   "outputs": [
    {
     "name": "stdout",
     "output_type": "stream",
     "text": [
      "Acceptance Region\t(-inf, 50.0209)\n"
     ]
    }
   ],
   "source": [
    "# One-sided acceptance region\n",
    "\n",
    "# Input\n",
    "n = 60\n",
    "s = 0.1334\n",
    "x_bar = 49.99856\n",
    "mu_0 = 50\n",
    "alpha = 0.1\n",
    "\n",
    "# Calculate \n",
    "t = stats.t.ppf(1 - alpha, n - 1)\n",
    "wing = t * (s / math.sqrt(n))\n",
    "\n",
    "# Output\n",
    "print('Acceptance Region\\t(-inf, {:.4f})'.format(x_bar + wing))"
   ]
  },
  {
   "cell_type": "markdown",
   "metadata": {},
   "source": [
    "### Z-test hypothesis"
   ]
  },
  {
   "cell_type": "code",
   "execution_count": 19,
   "metadata": {},
   "outputs": [
    {
     "name": "stdout",
     "output_type": "stream",
     "text": [
      "P-Value\t2.0000\n"
     ]
    }
   ],
   "source": [
    "# Two-sided z-test\n",
    "\n",
    "# Input\n",
    "n = 60\n",
    "sigma = 0.1334\n",
    "x_bar = 49.99856\n",
    "mu_0 = 50\n",
    "\n",
    "# Calculate\n",
    "t = (x_bar - mu_0) / (sigma / math.sqrt(n))\n",
    "p_value = 2 * stats.norm.sf(abs(t), n - 1)\n",
    "\n",
    "# Outpu \n",
    "print('P-Value\\t{:.4f}'.format(p_value))"
   ]
  },
  {
   "cell_type": "code",
   "execution_count": 20,
   "metadata": {},
   "outputs": [
    {
     "name": "stdout",
     "output_type": "stream",
     "text": [
      "P-Value\t0.0000\n"
     ]
    }
   ],
   "source": [
    "# One-sided z-test\n",
    "\n",
    "# Input\n",
    "n = 60\n",
    "sigma = 0.1334\n",
    "x_bar = 49.99856\n",
    "mu_0 = 50\n",
    "\n",
    "# Calculate\n",
    "t = (x_bar - mu_0) / (sigma / math.sqrt(n))\n",
    "p_value = stats.norm.cdf(abs(t), n - 1)\n",
    "\n",
    "# Outpu \n",
    "print('P-Value\\t{:.4f}'.format(p_value))"
   ]
  }
 ],
 "metadata": {
  "kernelspec": {
   "display_name": "Python 3",
   "language": "python",
   "name": "python3"
  },
  "language_info": {
   "codemirror_mode": {
    "name": "ipython",
    "version": 3
   },
   "file_extension": ".py",
   "mimetype": "text/x-python",
   "name": "python",
   "nbconvert_exporter": "python",
   "pygments_lexer": "ipython3",
   "version": "3.8.6"
  }
 },
 "nbformat": 4,
 "nbformat_minor": 4
}
