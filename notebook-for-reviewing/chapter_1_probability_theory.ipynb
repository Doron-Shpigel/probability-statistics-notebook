{
 "cells": [
  {
   "cell_type": "markdown",
   "metadata": {},
   "source": [
    "# Chapter 1 Probability Theory"
   ]
  },
  {
   "cell_type": "markdown",
   "metadata": {},
   "source": [
    "## 1.1 Introduction\n",
    "\n",
    "**Experiment**: Any process or procedure for which more than one outcome is possible. \n",
    "\n",
    "**Sample Space** $S$: All the possible outcomes. \n",
    "\n",
    "**Probability** $P(x_i)$ meet the requirement: $0\\leq p_i\\leq 1, i=1, 2, \\dots, n$ and $p_1 + p_2 + \\dots + p_n = 1$."
   ]
  },
  {
   "cell_type": "markdown",
   "metadata": {},
   "source": [
    "## 1.2 Events\n",
    "\n",
    "**Event** $A$: An event is a subset of the sample space. The probability of an event is obtained by the probabilities of the outcomes contained within the event.\n",
    "\n",
    "$$P(A) = \\sum P(x), x\\in A$$\n",
    "\n",
    "**Complements of envents** $A'$: Everything in the sample space not contained within event. \n",
    "\n",
    "$$P(A)+P(A')=1$$\n",
    "\n",
    "**Elementary event**: An event only contains one individual outcome. "
   ]
  },
  {
   "cell_type": "markdown",
   "metadata": {},
   "source": [
    "## 1.3 Intersection of Events\n",
    "\n",
    "**Intersection** $A\\cap B$: Outcomes within both events $A$ and $B$.\n",
    "\n",
    "**Union** $A\\cup B$: Outcomes within event $A$ or event $B$.\n",
    "\n",
    "$A\\cap (B\\cap C) = (A\\cap B)\\cap C$\n",
    "\n",
    "$P(A\\cup B) = P(A) + P(B) - P(A\\cap B)$\n",
    "\n",
    "$P(A\\cup B) = P(A\\cap B') + P(A'\\cap B) + P(A\\cap B)$\n",
    "\n",
    "$(A\\cup B)' = A' \\cap B'$\n",
    "\n",
    "$(A\\cap B)' = A' \\cup B'$\n",
    "\n",
    "$(A\\cup B\\cup C) = A + B + C - (A\\cap B) - (B\\cap C) - (C\\cap A) + (A\\cap B\\cap C)$"
   ]
  },
  {
   "cell_type": "markdown",
   "metadata": {},
   "source": [
    "## 1.4 Conditional Probability\n",
    "\n",
    "$P(A|B) = \\frac{P(A\\cap B)}{P(B)}, P(B)>0$\n",
    "\n",
    "$P(A|B) = \\frac{P(A\\cap B)}{P(B)} \\Longrightarrow P(A\\cap B) = P(B)P(A|B)$"
   ]
  },
  {
   "cell_type": "markdown",
   "metadata": {},
   "source": [
    "## 1.5 Probabilities of Event Intersections\n",
    "\n",
    "$P(A|B\\cap C) = \\frac{P(A\\cap B\\cap C)}{P(B\\cap C)} \\Longrightarrow P(A\\cap B\\cap C) = P(B\\cap C)P(A|B\\cap C)$\n",
    "\n",
    "$P(A_1 \\cap \\dots \\cap A_n) = P(A_1)P(A_1|A_2)P(A_3|A_1\\cap A_2)\\dots P(A_n|A_1\\cap \\dots \\cap A_{n-1})$\n",
    "\n",
    "**Independent**: One event's occur would not affect another event. \n",
    "\n",
    "1. $P(A|B) = P(A)$\n",
    "\n",
    "2. $P(B|A) = P(B)$\n",
    "\n",
    "3. $P(A\\cap B) = P(A)P(B)$"
   ]
  },
  {
   "cell_type": "markdown",
   "metadata": {},
   "source": [
    "## 1.6 Posterior Probability\n",
    "\n",
    "If an event $B$ is contained within a sample space $A$, then we have $P(B) = \\sum_{i=1}^{n}P(A_i)P(B|A_i)$\n",
    "\n",
    "The Bayes' Theorem:\n",
    "\n",
    "$$P(A_i|B) = \\frac{P(A_i)P(B|A_i)}{\\sum_{j=1}^{n}P(A_j)P(B|A_j)}$$"
   ]
  }
 ],
 "metadata": {
  "kernelspec": {
   "display_name": "Python 3",
   "language": "python",
   "name": "python3"
  },
  "language_info": {
   "codemirror_mode": {
    "name": "ipython",
    "version": 3
   },
   "file_extension": ".py",
   "mimetype": "text/x-python",
   "name": "python",
   "nbconvert_exporter": "python",
   "pygments_lexer": "ipython3",
   "version": "3.10.12"
  }
 },
 "nbformat": 4,
 "nbformat_minor": 4
}
