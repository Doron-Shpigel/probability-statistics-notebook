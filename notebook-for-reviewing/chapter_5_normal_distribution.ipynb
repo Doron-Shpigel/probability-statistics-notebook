{
 "cells": [
  {
   "cell_type": "code",
   "execution_count": 1,
   "metadata": {},
   "outputs": [],
   "source": [
    "from scipy.stats import norm\n",
    "from scipy.stats import chi2\n",
    "from scipy.stats import t\n",
    "import math"
   ]
  },
  {
   "cell_type": "code",
   "execution_count": 4,
   "metadata": {},
   "outputs": [],
   "source": [
    "def print_status(exp, var, pmf, cdf):\n",
    "    print('Exp\\t {:.6f}\\nVar\\t {:.6f}\\nPMF\\t {:.6f}\\nCDF\\t {:.6f}'.format(exp, var, pmf, cdf))"
   ]
  },
  {
   "cell_type": "markdown",
   "metadata": {},
   "source": [
    "# Chapter 5 Normal Distribution\n",
    "\n",
    "$X\\sim N(\\mu, \\sigma^2):f(x;\\mu, \\sigma) = \\frac{1}{\\sqrt{2\\pi}\\sigma}e^{-\\frac{(x-\\mu)^2}{2\\sigma^2}}$\n",
    "\n",
    "The standard normal distribution\n",
    "\n",
    "$X\\sim N(0, 1): f(x) = \\frac{1}{\\sqrt{2\\pi}}e^{-\\frac{x^2}{2}}$"
   ]
  },
  {
   "cell_type": "code",
   "execution_count": 13,
   "metadata": {},
   "outputs": [
    {
     "name": "stdout",
     "output_type": "stream",
     "text": [
      "Exp\t 2.000000\n",
      "Var\t 16.000000\n",
      "PMF\t 0.836392\n",
      "CDF\t 0.500000\n"
     ]
    }
   ],
   "source": [
    "# Normal Distribution\n",
    "# Input\n",
    "mu = 2\n",
    "sigma = 4 # N.B. NOT sigma^2\n",
    "pdf_variable = [-4, 7.2] # [star point, end point]\n",
    "cdf_variable = 2\n",
    "\n",
    "# Calculate\n",
    "exp, var = norm.stats(loc=mu, scale=sigma, moments='mv')\n",
    "pdf = norm.cdf(pdf_variable[1], loc=mu, scale=sigma) - \\\n",
    "norm.cdf(pdf_variable[0], loc=mu, scale=sigma)\n",
    "cdf = norm.cdf(cdf_variable, loc=mu, scale=sigma)\n",
    "\n",
    "# Output\n",
    "print_status(exp, var, pdf, cdf)"
   ]
  },
  {
   "cell_type": "code",
   "execution_count": 6,
   "metadata": {},
   "outputs": [
    {
     "name": "stdout",
     "output_type": "stream",
     "text": [
      "-0.994457883209753\n"
     ]
    }
   ],
   "source": [
    "# Normal Distribution CDF-1\n",
    "# Input\n",
    "mu = 0\n",
    "sigma = 1\n",
    "ppf_x = 0.16 # Probability\n",
    "\n",
    "# Calculate\n",
    "x = norm.ppf(ppf_x, loc=mu, scale=sigma)\n",
    "\n",
    "# Output\n",
    "print(x)"
   ]
  },
  {
   "cell_type": "code",
   "execution_count": 16,
   "metadata": {},
   "outputs": [
    {
     "name": "stdout",
     "output_type": "stream",
     "text": [
      "Exp\t 0.000000\n",
      "Var\t 1.000000\n",
      "PMF\t 0.189437\n",
      "CDF\t 0.579260\n"
     ]
    }
   ],
   "source": [
    "# Standard Normal Distribution\n",
    "# Input\n",
    "mu = 0\n",
    "sigma = 1\n",
    "pdf_variable = [-0.19, 0.29] # [star point, end point]\n",
    "cdf_variable = 0.2\n",
    "\n",
    "# Calculate\n",
    "exp, var = norm.stats(loc=mu, scale=sigma, moments='mv')\n",
    "pdf = norm.cdf(pdf_variable[1], loc=mu, scale=sigma) - \\\n",
    "norm.cdf(pdf_variable[0], loc=mu, scale=sigma)\n",
    "cdf = norm.cdf(cdf_variable, loc=mu, scale=sigma)\n",
    "\n",
    "# Output\n",
    "print_status(exp, var, pdf, cdf)"
   ]
  },
  {
   "cell_type": "code",
   "execution_count": 15,
   "metadata": {},
   "outputs": [
    {
     "name": "stdout",
     "output_type": "stream",
     "text": [
      "-0.8416212335729142\n"
     ]
    }
   ],
   "source": [
    "# Standard Normal Distribution CDF-1\n",
    "# Input\n",
    "mu = 0\n",
    "sigma = 1\n",
    "ppf_x = 0.2 # Probability\n",
    "\n",
    "# Calculate\n",
    "x = norm.ppf(ppf_x, loc=mu, scale=sigma)\n",
    "\n",
    "# Output\n",
    "print(x)"
   ]
  },
  {
   "cell_type": "markdown",
   "metadata": {},
   "source": [
    "## 5.2 Linear combinations of normal distribution\n",
    "\n",
    "$X\\sim N(\\mu, \\sigma^2)\\Longrightarrow aX+b\\sim N(a\\mu+b, a^2\\sigma^2)$\n",
    "\n",
    "$X_1\\sim N(\\mu_1, \\sigma_1^2), X_2\\sim N(\\mu_2, \\sigma_2^2)\\Longrightarrow X_1+X_2\\sim N(\\mu_1+\\mu_2, \\sigma_1^2+\\sigma_2^2)$\n",
    "\n",
    "$X\\sim N(\\mu, \\sigma^2)\\Longrightarrow \\bar{X}\\sim N(\\mu, \\frac{\\sigma^2}{n})$"
   ]
  },
  {
   "cell_type": "markdown",
   "metadata": {},
   "source": [
    "## 5.3 Approximating distribution with normal distribution\n",
    "\n",
    "$X\\sim B(n, p), Z\\sim N(0, 1)$ we have:\n",
    "\n",
    "- $P(X\\leq x)\\approx P(Z\\leq\\frac{x+0.5-np}{\\sqrt{np(1-p)}})$\n",
    "\n",
    "- $P(X\\geq x)\\approx P(Z\\geq\\frac{x-0.5-np}{\\sqrt{np(1-p)}})$"
   ]
  },
  {
   "cell_type": "code",
   "execution_count": 6,
   "metadata": {},
   "outputs": [
    {
     "name": "stdout",
     "output_type": "stream",
     "text": [
      "Exp\t 20.000000\n",
      "Var\t 256.000000\n",
      "PMF\t 0.159621\n",
      "CDF\t 0.503117\n"
     ]
    }
   ],
   "source": [
    "# Input\n",
    "n = 100\n",
    "p = 0.2\n",
    "pdf_variable_x = [0, 50] # [star point, end point]\n",
    "cdf_variable_x = 100\n",
    "\n",
    "# Calculate the value\n",
    "mu = n * p\n",
    "sigma = n * p * (1 - p)\n",
    "def approxmate(x, mu, sigma):\n",
    "    return (x + 0.5 - mu) / (sigma ** (1/2))\n",
    "pdf_variable = [approxmate(pdf_variable_x[0], mu, sigma), \\\n",
    "                approxmate(pdf_variable_x[1], mu, sigma)] # [star point, end point]\n",
    "cdf_variable = approxmate(cdf_variable_x, mu, sigma)\n",
    "\n",
    "# Calculate\n",
    "exp, var = norm.stats(loc=mu, scale=sigma, moments='mv')\n",
    "pdf = norm.cdf(pdf_variable[1], loc=mu, scale=sigma) - norm.cdf(pdf_variable[0], loc=mu, scale=sigma)\n",
    "cdf = norm.cdf(cdf_variable, loc=mu, scale=sigma)\n",
    "\n",
    "# Output\n",
    "print_status(exp, var, pdf, cdf)"
   ]
  },
  {
   "cell_type": "markdown",
   "metadata": {},
   "source": [
    "### 5.3.2 Central limit theorem\n",
    "\n",
    "$X_1, X_2, \\dots, X_n$ are independent and have the same mean $\\mu$ and the same variance $\\sigma^2$, then \n",
    "\n",
    "$$\\bar{X} = \\frac{\\sum_i^nX_i}{n}\\approx N(\\mu, \\frac{\\sigma^2}{n})$$\n",
    "\n",
    "for $n \\to \\infty$"
   ]
  },
  {
   "cell_type": "markdown",
   "metadata": {},
   "source": [
    "## 5.4 Distributions related to the Normal distribution\n",
    "\n",
    "### 5.4.1 The Lognormal Distribution\n",
    "\n",
    "$ln(X)\\sim N(\\mu, \\sigma^2): f(x; \\mu, \\sigma) = \\frac{1}{\\sqrt{2\\pi}\\sigma x}exp(-\\frac{(ln(x)-\\mu)^2}{2\\sigma^2})$\n",
    "\n",
    "CDF: $F(x;\\mu, \\sigma) = \\Phi(\\frac{ln(x)-\\mu}{\\sigma})$\n",
    "\n",
    "$E(X) = exp(\\mu + \\frac{\\sigma^2}{2})$\n",
    "\n",
    "$Var(X) = e^{2\\mu+\\sigma^2}(e^{\\sigma^2}-1)$"
   ]
  },
  {
   "cell_type": "markdown",
   "metadata": {},
   "source": [
    "### 5.4.2 Chi-Square Distribution\n",
    "\n",
    "$X_i\\sim N(0, 1), X = \\sum_{i=1}^{v}X_i^2 \\sim \\chi_v^2$\n",
    "\n",
    "$f(x;v) = \\frac{\\frac{1}{2}e^{-x/2}(\\frac{x}{2})^{v/2-1}}{\\Gamma(\\frac{v}{2})}$\n",
    "\n",
    "- $\\chi_v^2 = Gam(\\frac{v}{2}, \\frac{1}{2})$\n",
    "\n",
    "- $v$: degree of freedom\n",
    "\n",
    "$E(X) = v$\n",
    "\n",
    "$Var(X) = 2v$"
   ]
  },
  {
   "cell_type": "code",
   "execution_count": 9,
   "metadata": {},
   "outputs": [
    {
     "name": "stdout",
     "output_type": "stream",
     "text": [
      "Exp\t 12.000000\n",
      "Var\t 24.000000\n",
      "PMF\t 0.652382\n",
      "CDF\t 0.652382\n"
     ]
    }
   ],
   "source": [
    "# Input\n",
    "df = 12\n",
    "pdf_variable = [0, 13.3] # [star point, end point]\n",
    "cdf_variable = 13.3\n",
    "\n",
    "# Calculate\n",
    "exp, var = chi2.stats(df, moments='mv')\n",
    "pdf = chi2.cdf(pdf_variable[1], df) - \\\n",
    "chi2.cdf(pdf_variable[0], df)\n",
    "cdf = chi2.cdf(cdf_variable, df)\n",
    "\n",
    "# Output\n",
    "print_status(exp, var, pdf, cdf)"
   ]
  },
  {
   "cell_type": "code",
   "execution_count": 8,
   "metadata": {},
   "outputs": [
    {
     "name": "stdout",
     "output_type": "stream",
     "text": [
      "Critical points: 12.770329\n"
     ]
    }
   ],
   "source": [
    "# Input\n",
    "df = 8\n",
    "alpha = 0.12\n",
    "\n",
    "# Calculate\n",
    "x = chi2.ppf(1-alpha, df)\n",
    "\n",
    "# Output\n",
    "print('Critical points: {:.6f}'.format(x))"
   ]
  },
  {
   "cell_type": "markdown",
   "metadata": {},
   "source": [
    "### 5.4.3 T Distribution\n",
    "\n",
    "$Z\\sim N(0, 1), W\\sim \\chi_v^2$\n",
    "\n",
    "$T_v = \\frac{Z}{\\sqrt{W/v}}\\sim t_v$\n",
    "\n",
    "$P(X\\geq \\chi_{\\alpha, v}^2)=\\alpha$\n",
    "\n",
    "N.B. T Distribution is symmetric with $x=0$"
   ]
  },
  {
   "cell_type": "code",
   "execution_count": 15,
   "metadata": {},
   "outputs": [
    {
     "name": "stdout",
     "output_type": "stream",
     "text": [
      "Exp\t 0.000000\n",
      "Var\t 1.142857\n",
      "PMF\t 0.951053\n",
      "CDF\t 0.975526\n"
     ]
    }
   ],
   "source": [
    "# Input\n",
    "df = 16\n",
    "pdf_variable = [-2.131, 2.131] # [star point, end point]\n",
    "cdf_variable = 2.131\n",
    "\n",
    "# Calculate\n",
    "exp, var = t.stats(df, moments='mv')\n",
    "pdf = t.cdf(pdf_variable[1], df) - \\\n",
    "t.cdf(pdf_variable[0], df)\n",
    "cdf = t.cdf(cdf_variable, df)\n",
    "\n",
    "# Output\n",
    "print_status(exp, var, pdf, cdf)"
   ]
  },
  {
   "cell_type": "code",
   "execution_count": 17,
   "metadata": {},
   "outputs": [
    {
     "name": "stdout",
     "output_type": "stream",
     "text": [
      "Critical points: -2.131450\n"
     ]
    }
   ],
   "source": [
    "# Input\n",
    "df = 15\n",
    "alpha = 0.025\n",
    "\n",
    "# Calculate\n",
    "x = t.ppf(alpha, df)\n",
    "\n",
    "# Output\n",
    "print('Critical points: {:.6f}'.format(x))"
   ]
  },
  {
   "cell_type": "markdown",
   "metadata": {},
   "source": [
    "### 5.4.4 F Distribution\n",
    "\n",
    "$W_i\\sim \\chi_{v_i}^2, i = 1, 2$\n",
    "\n",
    "$F_{v_1, v_2} \\sim \\frac{W_1}{v_1}/\\frac{W_2}{v_2}$"
   ]
  }
 ],
 "metadata": {
  "kernelspec": {
   "display_name": "Python 3",
   "language": "python",
   "name": "python3"
  },
  "language_info": {
   "codemirror_mode": {
    "name": "ipython",
    "version": 3
   },
   "file_extension": ".py",
   "mimetype": "text/x-python",
   "name": "python",
   "nbconvert_exporter": "python",
   "pygments_lexer": "ipython3",
   "version": "3.8.6"
  }
 },
 "nbformat": 4,
 "nbformat_minor": 4
}
