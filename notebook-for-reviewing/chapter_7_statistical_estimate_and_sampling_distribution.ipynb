{
 "cells": [
  {
   "cell_type": "code",
   "execution_count": null,
   "metadata": {},
   "outputs": [],
   "source": []
  },
  {
   "cell_type": "markdown",
   "metadata": {},
   "source": [
    "# Chapter 7 Statistical Estimation and Sampling Distribution\n",
    "\n",
    "## 7.1 Point Estimates\n",
    "\n",
    "**Parameters**: used to discrabe a probability distribution, e.g. mean, variance, etc.\n",
    "\n",
    "**Statistics**: a function of random sample of a distribution, i.e. randomly choose some samples from a distribution. \n",
    "\n",
    "**Estimate**: guess the parameter by the statistics. "
   ]
  },
  {
   "cell_type": "markdown",
   "metadata": {},
   "source": [
    "## 7.2 Properities of Point Estimate\n",
    "\n",
    "**Estimate bias**: $bias(\\hat{\\theta}) = E(\\hat{\\theta})-\\theta$, if $bias = 0$, we call this estimate **unbias estimate**. \n",
    "\n",
    "**Estimate variance**: $Var(\\hat{\\theta})$ is the same with the definition of variance. \n",
    "\n",
    "**Mean squared error (MSE)**: $MSE(\\hat{\\theta})=E(\\hat{\\theta}-\\theta)^2=Var(\\hat{\\theta}) + bias^2(\\hat{\\theta})$"
   ]
  },
  {
   "cell_type": "markdown",
   "metadata": {},
   "source": [
    "## 7.3 Sampling Distribution\n",
    "\n",
    "$X\\sim B(n, p)\\Longrightarrow \\hat{p}\\sim N(p, \\frac{p(1-p)}{n})$\n",
    "\n",
    "$X\\sim N(\\mu, \\sigma)\\Longrightarrow T = \\frac{\\sqrt{n}(\\bar{X}-\\mu)}{S}\\sim t_{n-1}$"
   ]
  },
  {
   "cell_type": "markdown",
   "metadata": {},
   "source": [
    "## 7.4 Constructing Parameter Estimate\n",
    "\n",
    "### Moment estimate method\n",
    "\n",
    "For parameters $\\hat{\\theta}=[\\theta_1, \\theta_2, \\dots, \\theta_n]$, we create\n",
    "\n",
    "$$\\bar{x}=E(X)$$\n",
    "$$\\bar{x}^2=E(X^2)$$\n",
    "$$\\dots$$\n",
    "$$\\bar{x}^n=E(X^n)$$\n",
    "\n",
    "Solve these functions we can get the $\\hat{\\theta}$.\n",
    "\n",
    "### Maximum likehood estimate method\n",
    "\n",
    "$MLE(\\hat{\\theta})=max_{\\theta}L(\\theta)=max_{\\theta}f(x_1;\\theta)\\times f(x_2;\\theta)\\times \\dots f(x_n;\\theta)$\n",
    "\n",
    "where $L(\\theta)$ is the likehood function. "
   ]
  }
 ],
 "metadata": {
  "kernelspec": {
   "display_name": "Python 3",
   "language": "python",
   "name": "python3"
  },
  "language_info": {
   "codemirror_mode": {
    "name": "ipython",
    "version": 3
   },
   "file_extension": ".py",
   "mimetype": "text/x-python",
   "name": "python",
   "nbconvert_exporter": "python",
   "pygments_lexer": "ipython3",
   "version": "3.8.6"
  }
 },
 "nbformat": 4,
 "nbformat_minor": 4
}
