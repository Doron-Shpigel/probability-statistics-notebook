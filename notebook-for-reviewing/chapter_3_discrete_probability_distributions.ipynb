{
 "cells": [
  {
   "cell_type": "code",
   "execution_count": 19,
   "metadata": {},
   "outputs": [],
   "source": [
    "from scipy.stats import bernoulli\n",
    "from scipy.stats import binom\n",
    "from scipy.stats import geom\n",
    "from scipy.stats import nbinom\n",
    "from scipy.stats import hypergeom\n",
    "from scipy.stats import poisson\n",
    "from scipy.stats import multinomial\n",
    "from scipy.stats import norm"
   ]
  },
  {
   "cell_type": "code",
   "execution_count": 20,
   "metadata": {},
   "outputs": [],
   "source": [
    "def print_status(exp, var, pmf, cdf):\n",
    "    print('Exp\\t {:.6f}\\nVar\\t {:.6f}\\nPMF\\t {:.6f}\\nCDF\\t {:.6f}'\\\n",
    "          .format(exp, var, pmf, cdf))"
   ]
  },
  {
   "cell_type": "markdown",
   "metadata": {},
   "source": [
    "# Chapter 3 Discrete Probability Distributions\n",
    "\n",
    "## 3.1 The Binomial and Bernoulli Distribution\n",
    "\n",
    "### 3.1.1 Bernoulli Distribution\n",
    "\n",
    "Do the experiment only once, the experiment only has two outcomes: success and failure.\n",
    "\n",
    "- $x$: 1 means success, 0 means failure\n",
    "\n",
    "- $p$: probability of success\n",
    "\n",
    "$X\\sim Ber(p): f(x;p)=p^x(1-p)^{1-x}, x=0, 1$\n",
    "\n",
    "$E(X) = p$\n",
    "\n",
    "$Var(X) = p(1-p)$"
   ]
  },
  {
   "cell_type": "code",
   "execution_count": 21,
   "metadata": {},
   "outputs": [
    {
     "name": "stdout",
     "output_type": "stream",
     "text": [
      "Exp\t 0.300000\n",
      "Var\t 0.210000\n",
      "PMF\t 0.700000\n",
      "CDF\t 0.700000\n"
     ]
    }
   ],
   "source": [
    "# Input\n",
    "p = 0.3\n",
    "pmf_variable = 0\n",
    "cdf_variable = 0\n",
    "\n",
    "# Calculate\n",
    "exp, var = bernoulli.stats(p, moments='mv')\n",
    "pmf = bernoulli.pmf(pmf_variable, p)\n",
    "cdf = bernoulli.cdf(cdf_variable, p)\n",
    "\n",
    "# Output\n",
    "print_status(exp, var, pmf, cdf)"
   ]
  },
  {
   "cell_type": "markdown",
   "metadata": {},
   "source": [
    "### 3.1.2 Binomial Distribution\n",
    "\n",
    "Do an expriment $n$ times independently, the experiment only have two outcomes: success and failure.\n",
    "\n",
    "- $x$: success times\n",
    "\n",
    "- $n$: total experiment times\n",
    "\n",
    "- $p$: probability of success in each time experiment\n",
    "\n",
    "$X\\sim B(n, p): f(x;n, p) = C_n^xp^x(1-p)^{n-x}, x=1, 2, \\dots, n$\n",
    "\n",
    "$E(X) = np$\n",
    "\n",
    "$Var(X) = np(1-p)$"
   ]
  },
  {
   "cell_type": "code",
   "execution_count": 22,
   "metadata": {},
   "outputs": [
    {
     "name": "stdout",
     "output_type": "stream",
     "text": [
      "Exp\t 9.453600\n",
      "Var\t 2.006054\n",
      "PMF\t 0.064175\n",
      "CDF\t 0.484489\n"
     ]
    }
   ],
   "source": [
    "# Input\n",
    "n = 12\n",
    "p = 0.7878\n",
    "pmf_variable = 7\n",
    "cdf_variable = 9\n",
    "\n",
    "# Calculate\n",
    "exp, var = binom.stats(n, p, moments='mv')\n",
    "pmf = binom.pmf(pmf_variable, n, p)\n",
    "cdf = binom.cdf(cdf_variable, n, p)\n",
    "\n",
    "# Output\n",
    "print_status(exp, var, pmf, cdf)"
   ]
  },
  {
   "cell_type": "markdown",
   "metadata": {},
   "source": [
    "## 3.2 Geometric and Negative Distribution\n",
    "\n",
    "### 3.2.1 Geometric Distribution\n",
    "\n",
    "Do $x$ times experiments and only the last experiment it successes.\n",
    "\n",
    "- $x$: total experiment times\n",
    "\n",
    "- $p$: probability of success in each experiment\n",
    "\n",
    "$X\\sim G(p):f(x;p) = (1-p)^{x-1}p, x=1, 2, \\dots, \\infty$\n",
    "\n",
    "$E(X) = \\frac{1}{p}$\n",
    "\n",
    "$Var(X) = \\frac{1-p}{p^2}$"
   ]
  },
  {
   "cell_type": "code",
   "execution_count": 23,
   "metadata": {},
   "outputs": [
    {
     "name": "stdout",
     "output_type": "stream",
     "text": [
      "Exp\t 4.347826\n",
      "Var\t 14.555766\n",
      "PMF\t 0.080852\n",
      "CDF\t 0.648470\n"
     ]
    }
   ],
   "source": [
    "# Input\n",
    "p = 0.23\n",
    "pmf_variable = 5\n",
    "cdf_variable = 4\n",
    "\n",
    "# Calculate\n",
    "exp, var = geom.stats(p, moments='mv')\n",
    "pmf = geom.pmf(pmf_variable, p)\n",
    "cdf = geom.cdf(cdf_variable, p)\n",
    "\n",
    "# Output\n",
    "print_status(exp, var, pmf, cdf)"
   ]
  },
  {
   "cell_type": "markdown",
   "metadata": {},
   "source": [
    "### 3.2.2 Negative Binomial Distribution\n",
    "\n",
    "Do $x+n$ times experiments, we success $n$ times and failed $x$ times, and the \n",
    "last experiment is success.\n",
    "\n",
    "- $x$: total failed times; \n",
    "\n",
    "- $n$: total success times;\n",
    "\n",
    "$X\\sim NB(n, p):f(x;n, p) = C_{x+n-1}^{n-1}p^{n}(1-p)^{x}, x=1, 2, \\dots, \\infty$\n",
    "\n",
    "$E(X) = \\frac{x + n}{p}$\n",
    "\n",
    "$Var(X) = \\frac{(x+n)(1-p)}{p^2}$"
   ]
  },
  {
   "cell_type": "code",
   "execution_count": 24,
   "metadata": {},
   "outputs": [
    {
     "name": "stdout",
     "output_type": "stream",
     "text": [
      "Exp\t 0.896104\n",
      "Var\t 1.163771\n",
      "PMF\t 0.055546\n",
      "CDF\t 0.997325\n"
     ]
    }
   ],
   "source": [
    "# Input\n",
    "n = 3 # success times\n",
    "p = 0.77\n",
    "pmf_variable = 3 # failed times\n",
    "cdf_variable = 5\n",
    "\n",
    "# Calculate\n",
    "exp, var = nbinom.stats(n, p, moments='mv') # N.B. the result of exp is the failed times\n",
    "pmf = nbinom.pmf(pmf_variable, n, p) \n",
    "cdf = nbinom.cdf(cdf_variable, n, p)\n",
    "\n",
    "# Output\n",
    "print_status(exp, var, pmf, cdf)"
   ]
  },
  {
   "cell_type": "markdown",
   "metadata": {},
   "source": [
    "## 3.3 Hptergeometric Distribution\n",
    "\n",
    "Choose $n$ items from $N$ items without replacement, within the $N$ items, there are $r$ items in one type and the rest are in another type. We finally get $x$ itmes in one type.\n",
    "\n",
    "- $N$: total number of items;\n",
    "\n",
    "- $r$: number of a type item in all items; \n",
    "\n",
    "- $n$: number of chosen items;\n",
    "\n",
    "- $x$: number of a type item in chosen items;\n",
    "\n",
    "$X\\sim Hypergeometric(N, n, r): f(x;N, n, r) = \\frac{C_r^xC_{N-r}^{n-x}}{C_N^n}$\n",
    "\n",
    "$E(X) = n\\frac{r}{N}$\n",
    "\n",
    "$Var(X) = \\frac{N-n}{N-1}n\\frac{r}{N}(1-\\frac{r}{N})$"
   ]
  },
  {
   "cell_type": "code",
   "execution_count": 25,
   "metadata": {},
   "outputs": [
    {
     "name": "stdout",
     "output_type": "stream",
     "text": [
      "Exp\t 3.000000\n",
      "Var\t 0.857143\n",
      "PMF\t 0.239760\n",
      "CDF\t 0.046953\n"
     ]
    }
   ],
   "source": [
    "# Input\n",
    "N = 15\n",
    "r = 9\n",
    "n = 5\n",
    "pmf_variable = 2 # number of items in r type\n",
    "cdf_variable = 1\n",
    "\n",
    "# Calculate\n",
    "exp, var = hypergeom.stats(N, r, n, moments='mv')\n",
    "pmf = hypergeom.pmf(pmf_variable, N, r, n) \n",
    "cdf = hypergeom.cdf(cdf_variable, N, r, n)\n",
    "\n",
    "# Output\n",
    "print_status(exp, var, pmf, cdf)"
   ]
  },
  {
   "cell_type": "markdown",
   "metadata": {},
   "source": [
    "## 3.4 Poisson Distribution\n",
    "\n",
    "$X\\sim Pois(\\lambda): f(x;\\lambda) = \\frac{e^{-\\lambda}\\lambda^x}{x!}, x=0, 1, 2, \\dots, \\infty$\n",
    "\n",
    "$E(X) = \\lambda$\n",
    "\n",
    "$Var(X) = \\lambda$"
   ]
  },
  {
   "cell_type": "code",
   "execution_count": 26,
   "metadata": {},
   "outputs": [
    {
     "name": "stdout",
     "output_type": "stream",
     "text": [
      "Exp\t 6.000000\n",
      "Var\t 6.000000\n",
      "PMF\t 0.014873\n",
      "CDF\t 0.285057\n"
     ]
    }
   ],
   "source": [
    "# Input\n",
    "lamb = 6\n",
    "pmf_variable = 1\n",
    "cdf_variable = 4 \n",
    "\n",
    "# Calculate\n",
    "exp, var = poisson.stats(lamb, moments='mv')\n",
    "pmf = poisson.pmf(pmf_variable, lamb) \n",
    "cdf = poisson.cdf(cdf_variable, lamb)\n",
    "\n",
    "# Output\n",
    "print_status(exp, var, pmf, cdf)"
   ]
  },
  {
   "cell_type": "code",
   "execution_count": 27,
   "metadata": {},
   "outputs": [
    {
     "name": "stdout",
     "output_type": "stream",
     "text": [
      "-2.3263478740408408\n"
     ]
    }
   ],
   "source": [
    "# Input\n",
    "lamb = 6\n",
    "ppf_x = 0.01 # Probability\n",
    "mu=0\n",
    "sigma=1\n",
    "\n",
    "# Calculate\n",
    "x = norm.ppf(ppf_x, loc=mu, scale=sigma)\n",
    "\n",
    "# Output\n",
    "print(x)"
   ]
  },
  {
   "cell_type": "markdown",
   "metadata": {},
   "source": [
    "## 3.5 Multinomial Distribution\n",
    "\n",
    "Nominal distribution with $k$ outputs, each output have the probability $p_i, i=1, 2, \\dots, k$, the variables are the number of times of output $x_i, i=1, 2, \\dots, k$.\n",
    "\n",
    "$f(x_1, x_2, \\dots, x_k;p_1, p_2, \\dots, p_k, n) = C_{n}^{x_1, x_2, \\dots, x_k}p_1^{x_1}p_2^{x_2}\\dots p_k^{x_k}$\n",
    "\n",
    "We required $\\sum_{i=1}^{k}x_i=n$ and $\\sum_{i=1}^{k}p_i=1$\n",
    "\n",
    "$E(X_i) = np_i$\n",
    "\n",
    "$Var(X_i) = np_i(1-p_i)$"
   ]
  },
  {
   "cell_type": "code",
   "execution_count": 28,
   "metadata": {},
   "outputs": [
    {
     "name": "stdout",
     "output_type": "stream",
     "text": [
      "0.09450000000000004\n"
     ]
    }
   ],
   "source": [
    "# Input\n",
    "n = 8\n",
    "p = [0.3, 0.2, 0.5]\n",
    "pmf_variable = [2, 2, 4]\n",
    "\n",
    "# Calculate\n",
    "pmf = multinomial.pmf(pmf_variable, n, p) \n",
    "\n",
    "# Output\n",
    "print(pmf)"
   ]
  }
 ],
 "metadata": {
  "kernelspec": {
   "display_name": "Python 3",
   "language": "python",
   "name": "python3"
  },
  "language_info": {
   "codemirror_mode": {
    "name": "ipython",
    "version": 3
   },
   "file_extension": ".py",
   "mimetype": "text/x-python",
   "name": "python",
   "nbconvert_exporter": "python",
   "pygments_lexer": "ipython3",
   "version": "3.10.12"
  },
  "toc-autonumbering": false
 },
 "nbformat": 4,
 "nbformat_minor": 4
}
