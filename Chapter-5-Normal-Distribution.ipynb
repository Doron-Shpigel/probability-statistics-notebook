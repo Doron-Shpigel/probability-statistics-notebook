{
 "cells": [
  {
   "cell_type": "code",
   "execution_count": 1,
   "metadata": {},
   "outputs": [],
   "source": [
    "'''\n",
    "Import here useful libraries\n",
    "Run this cell first for convenience\n",
    "'''\n",
    "import numpy as np\n",
    "from scipy import stats\n",
    "import scipy\n",
    "import warnings\n",
    "warnings.simplefilter('ignore', DeprecationWarning)"
   ]
  },
  {
   "cell_type": "markdown",
   "metadata": {},
   "source": [
    "# Chapter 5 - Normal Distribution"
   ]
  },
  {
   "cell_type": "markdown",
   "metadata": {},
   "source": [
    "## Probability Calculation Using the Normal Distribution"
   ]
  },
  {
   "cell_type": "markdown",
   "metadata": {},
   "source": [
    "### Definition of the Normal Distribution\n",
    "\n"
   ]
  },
  {
   "cell_type": "markdown",
   "metadata": {},
   "source": [
    "- Normal Distribution $N( \\mu, \\sigma)$:\n",
    "\\begin{equation}\n",
    "    f(x; \\mu, \\sigma) = \\frac{1}{\\sqrt{2 \\pi} \\sigma } e ^{- \\frac{(x - \\mu) ^2}{2 \\sigma ^2}}\n",
    "\\end{equation}\n",
    "- $\\mu$ is the mean and $\\sigma$ the standard deviation of the distribution, hence $\\sigma^2$ is its variance\n",
    "- Symmetric about $\\mu$\n",
    "- Also called the Gaussian distribution"
   ]
  },
  {
   "cell_type": "code",
   "execution_count": 5,
   "metadata": {},
   "outputs": [
    {
     "name": "stdout",
     "output_type": "stream",
     "text": [
      "Mean:  1320.0\n",
      "Variance:  225.0\n",
      "Probability mass function:  0.010934004978399577\n",
      "Cumulative distribution function:  0.09121121972586788\n",
      "Survival function (1-cdf):  0.9087887802741321\n"
     ]
    }
   ],
   "source": [
    "from scipy.stats import norm\n",
    "\n",
    "# Parameters\n",
    "x = 1300 # value to look for\n",
    "mu = 1320 # mean\n",
    "sigma = 15 # standard deviation\n",
    "\n",
    "print(\"Mean: \", norm.mean(loc = mu, scale = sigma))\n",
    "print(\"Variance: \", norm.var(loc = mu, scale = sigma)) \n",
    "print(\"Probability mass function: \", norm.pdf(x, loc = mu, scale = sigma))\n",
    "print(\"Cumulative distribution function: \", norm.cdf(x, loc = mu, scale = sigma))\n",
    "print(\"Survival function (1-cdf): \", norm.sf(x, loc = mu, scale = sigma))"
   ]
  },
  {
   "cell_type": "markdown",
   "metadata": {},
   "source": [
    "### Standard Normal Distribution"
   ]
  },
  {
   "cell_type": "markdown",
   "metadata": {},
   "source": [
    "- Normal distribution with $\\mu = 0$ and $\\sigma = 1$\n",
    "- Probability distribution function:\n",
    "\\begin{equation}\n",
    "    f(x) = \\frac{1}{\\sqrt{2 \\pi}} e ^{- \\frac{x ^2}{2}}\n",
    "\\end{equation}\n",
    "- Cumulative distribution function: $\\Phi(x)$ (special notation for the Gaussian)"
   ]
  },
  {
   "cell_type": "markdown",
   "metadata": {},
   "source": [
    "### Probability Calculation for General Normal Distributions"
   ]
  },
  {
   "cell_type": "markdown",
   "metadata": {},
   "source": [
    "- $X \\sim N(\\mu, \\sigma^2) \\Longrightarrow Z = \\frac{X - \\mu}{\\sigma} \\sim N(0,1)$\n",
    "- So, $P(a \\leq X \\leq b) = P \\left( \\frac{ a - \\mu}{ \\sigma} \\leq \\frac{ X - \\mu}{ \\sigma} \\leq \\frac{ b - \\mu}{ \\sigma} \\right) = P \\left( \\frac{ a - \\mu}{ \\sigma} \\leq Z \\leq \\frac{ b - \\mu}{ \\sigma} \\right) = \\Phi \\left(\\frac{ b - \\mu}{ \\sigma} \\right) - \\Phi \\left( \\frac{a - \\mu}{ \\sigma} \\right)$\n",
    "- Other properties:\n",
    "    - $P( \\mu -c \\sigma \\leq X \\leq \\mu + c \\sigma) = P(-c \\leq Z \\leq c)$\n",
    "    - $P(X \\leq \\mu + \\sigma z_{\\alpha}) = P(Z \\leq z_ {\\alpha}) = 1 - \\alpha$"
   ]
  },
  {
   "cell_type": "code",
   "execution_count": 12,
   "metadata": {},
   "outputs": [
    {
     "name": "stdout",
     "output_type": "stream",
     "text": [
      "Mean:  1320\n",
      "Variance:  225\n",
      "Probability mass function:  0.16401007467599366\n",
      "Cumulative distribution function:  0.09121121972586788\n",
      "Survival function (1-cdf):  0.9087887802741321\n",
      "Percent point function (inverse of cdf):  2.3263478740408408\n"
     ]
    }
   ],
   "source": [
    "# This time, we calculate the distribution using the standard normal distribution, by calculating the new variable Z\n",
    "# Same results as in the previous approach. This method is suggested for manual calculation though\n",
    "from scipy.stats import norm\n",
    "\n",
    "# Parameters \n",
    "x = 1300 # value to look for\n",
    "mu = 1320 # mean\n",
    "sigma = 15 # standard deviation\n",
    "# Optional\n",
    "alpha = 0.99 # cdf value used in ppf for calculating the inverse of the probability density function\n",
    "\n",
    "# Parameter transformation\n",
    "Z = (x - mu)/sigma\n",
    "\n",
    "\n",
    "print(\"Mean: \", mu) # the mean is given \n",
    "print(\"Variance: \", sigma**2) # we calculate the variance using the provided standard deviation\n",
    "print(\"Probability mass function: \", norm.pdf(Z))\n",
    "print(\"Cumulative distribution function: \", norm.cdf(Z))\n",
    "print(\"Survival function (1-cdf): \", norm.sf(Z))\n",
    "print(\"Percent point function (inverse of cdf): \", norm.ppf(alpha))"
   ]
  },
  {
   "cell_type": "markdown",
   "metadata": {},
   "source": [
    "## Linear Combinations of Normal Random Variables"
   ]
  },
  {
   "cell_type": "markdown",
   "metadata": {},
   "source": [
    "### Linear Functions of a Normal Random Variable"
   ]
  },
  {
   "cell_type": "markdown",
   "metadata": {},
   "source": [
    "- $X \\sim N(\\mu, \\sigma^2) $\n",
    "    - $\\Longrightarrow Y = aX +b \\sim N(a \\mu + b, a^2 \\sigma ^2)$ for constant $a,b$ \n",
    "- Given $X \\sim N(\\mu_1, \\sigma_1^2)$ and $X \\sim N(\\mu_2, \\sigma_2^2)$ independent \n",
    "    - $\\Longrightarrow Y = X_1 + X_2 \\sim N(\\mu_1 + \\mu_2, \\sigma_1^2 + \\sigma_2^2)$ "
   ]
  },
  {
   "cell_type": "markdown",
   "metadata": {},
   "source": [
    "### Properties of independent Normal Random Variables"
   ]
  },
  {
   "cell_type": "markdown",
   "metadata": {},
   "source": [
    "- $ X_i \\sim N(\\mu_i, \\sigma_i^2), 1\\leq i \\leq n$ are independent and $a_i$, $1 \\leq i \\leq n$, and $b$ are constants\n",
    "    - $ Y = a_1X_1 + \\cdots + a_n X_n + b \\sim N(\\mu, \\sigma^2)$\n",
    "    - where $\\mu = a_1\\mu_1 + \\cdots + a_n\\mu_n + b, \\sigma^2 = a_1^2\\sigma_1^2 + \\cdots +a_n^2\\sigma_n^2$ \n",
    "- $X_i \\sim N( \\mu, \\sigma^2)$, $  1\\leq i \\leq n$ are independent\n",
    "    - $ \\bar{X} \\sim N(\\mu, \\frac{\\sigma^2}{n})$ where $\\bar{X} = \\frac{1}{n} \\sum_{i=1}^n X_i$\n",
    "-If $X_1, \\cdots , X_n$ are not independent, then these properties may not be valid anymore\n"
   ]
  },
  {
   "cell_type": "markdown",
   "metadata": {},
   "source": [
    "## Approximating Distributions with the Normal Distribution"
   ]
  },
  {
   "cell_type": "markdown",
   "metadata": {},
   "source": [
    "### The Normal Approximation to the Binomial Distribution"
   ]
  },
  {
   "cell_type": "markdown",
   "metadata": {},
   "source": [
    "Theorem (approximation of a binomial to a normal distribution):\n",
    "- If $X$ is a binomial random variable with mean $\\mu = np$ and variance $\\sigma^2 = npq$, then the limiting form of the distribution of\n",
    "\\begin{equation}\n",
    "    Z = \\frac{X - np}{\\sqrt{npq}},\n",
    "\\end{equation}\n",
    "as $ n \\to \\infty$ is the standard normal distribution $n(z;0,1)$"
   ]
  },
  {
   "cell_type": "markdown",
   "metadata": {},
   "source": [
    "### Continuity correction in the Normal approximation"
   ]
  },
  {
   "cell_type": "markdown",
   "metadata": {},
   "source": [
    "- $X \\sim B(n,p)$ and $Z \\sim N(0,1)$ then:\n",
    "    - $P(X \\leq x) \\approx P \\left( Z \\leq \\frac{x + 0.5 -np}{\\sqrt{npq}} \\right)$\n",
    "    - $P(X \\geq x) \\approx P \\left( Z \\geq \\frac{x - 0.5 -np}{\\sqrt{npq}} \\right)$"
   ]
  },
  {
   "cell_type": "markdown",
   "metadata": {},
   "source": [
    "### The Central Limit Theorem"
   ]
  },
  {
   "cell_type": "markdown",
   "metadata": {},
   "source": [
    "- Let $X_1, \\cdots , X_n$ be _iid_ (independent identically distributed) with a distribution with a mean $\\mu$ and a variance $\\sigma^2$; then\n",
    "\\begin{equation}\n",
    "    \\bar{X} = \\frac{\\sum_i^n X_i}{n} \\approx N \\left( \\mu, \\frac{\\sigma^2}{n} \\right)\n",
    "\\end{equation}\n",
    "for $ n \\to \\infty$"
   ]
  },
  {
   "cell_type": "markdown",
   "metadata": {},
   "source": [
    "- The central limit theorem works better if the distribution for the sample is closer to the normal distribution"
   ]
  }
 ],
 "metadata": {
  "kernelspec": {
   "display_name": "Python 3",
   "language": "python",
   "name": "python3"
  },
  "language_info": {
   "codemirror_mode": {
    "name": "ipython",
    "version": 3
   },
   "file_extension": ".py",
   "mimetype": "text/x-python",
   "name": "python",
   "nbconvert_exporter": "python",
   "pygments_lexer": "ipython3",
   "version": "3.8.5"
  }
 },
 "nbformat": 4,
 "nbformat_minor": 4
}
