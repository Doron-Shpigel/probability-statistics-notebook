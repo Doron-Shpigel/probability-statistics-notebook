{
 "cells": [
  {
   "cell_type": "code",
   "execution_count": 1,
   "metadata": {},
   "outputs": [],
   "source": [
    "'''\n",
    "Import here useful libraries\n",
    "Run this cell first for convenience\n",
    "'''\n",
    "import numpy as np\n",
    "from scipy import stats\n",
    "import scipy\n",
    "import warnings\n",
    "warnings.simplefilter('ignore', DeprecationWarning)"
   ]
  },
  {
   "cell_type": "code",
   "execution_count": null,
   "metadata": {},
   "outputs": [],
   "source": []
  },
  {
   "cell_type": "markdown",
   "metadata": {},
   "source": [
    "# Chapter 5 - Normal Distribution"
   ]
  },
  {
   "cell_type": "markdown",
   "metadata": {},
   "source": [
    "## Probability Calculation Using the Normal Distribution"
   ]
  },
  {
   "cell_type": "markdown",
   "metadata": {},
   "source": [
    "### Definition of the Normal Distribution\n",
    "\n"
   ]
  },
  {
   "cell_type": "markdown",
   "metadata": {},
   "source": [
    "- Normal Distribution $N( \\mu, \\sigma)$:\n",
    "\\begin{equation}\n",
    "    f(x; \\mu, \\sigma) = \\frac{1}{\\sqrt{2 \\pi} \\sigma } e ^{- \\frac{(x - \\mu) ^2}{2 \\sigma ^2}}\n",
    "\\end{equation}\n",
    "- $\\mu$ is the mean and $\\sigma$ the standard deviation of the distribution, hence $\\sigma^2$ is its variance\n",
    "- Symmetric about $\\mu$\n",
    "- Also called the Gaussian distribution"
   ]
  },
  {
   "cell_type": "code",
   "execution_count": 4,
   "metadata": {},
   "outputs": [
    {
     "name": "stdout",
     "output_type": "stream",
     "text": [
      "Mean:  0.0\n",
      "Variance:  1.0\n",
      "Probability mass function:  0.17136859204780736\n",
      "Cumulative distribution function:  0.9031995154143897\n",
      "Survival function (1-cdf):  0.09680048458561036\n"
     ]
    }
   ],
   "source": [
    "from scipy.stats import norm\n",
    "\n",
    "# Parameters\n",
    "x = 1.3 # value to look for\n",
    "mu = 0 # mean\n",
    "sigma = 1 # standard deviation\n",
    "\n",
    "print(\"Mean: \", norm.mean(loc = mu, scale = sigma))\n",
    "print(\"Variance: \", norm.var(loc = mu, scale = sigma)) \n",
    "print(\"Probability mass function: \", norm.pdf(x, loc = mu, scale = sigma))\n",
    "print(\"Cumulative distribution function: \", norm.cdf(x, loc = mu, scale = sigma))\n",
    "print(\"Survival function (1-cdf): \", norm.sf(x, loc = mu, scale = sigma))\n"
   ]
  },
  {
   "cell_type": "markdown",
   "metadata": {},
   "source": [
    "### Standard Normal Distribution"
   ]
  },
  {
   "cell_type": "markdown",
   "metadata": {},
   "source": [
    "Chapter- Normal distribution with $\\mu = 0$ and $\\sigma = 1$\n",
    "- Probability distribution function:\n",
    "\\begin{equation}\n",
    "    f(x) = \\frac{1}{\\sqrt{2 \\pi}} e ^{- \\frac{x ^2}{2}}\n",
    "\\end{equation}\n",
    "- Cumulative distribution function: $\\Phi(x)$ (special notation for the Gaussian)"
   ]
  },
  {
   "cell_type": "markdown",
   "metadata": {},
   "source": [
    "### Probability Calculation for General Normal Distributions"
   ]
  },
  {
   "cell_type": "markdown",
   "metadata": {},
   "source": [
    "- $X \\sim N(\\mu, \\sigma^2) \\Longrightarrow Z = \\frac{X - \\mu}{\\sigma} \\sim N(0,1)$\n",
    "- So, $P(a \\leq X \\leq b) = P \\left( \\frac{ a - \\mu}{ \\sigma} \\leq \\frac{ X - \\mu}{ \\sigma} \\leq \\frac{ b - \\mu}{ \\sigma} \\right) = P \\left( \\frac{ a - \\mu}{ \\sigma} \\leq Z \\leq \\frac{ b - \\mu}{ \\sigma} \\right) = \\Phi \\left(\\frac{ b - \\mu}{ \\sigma} \\right) - \\Phi \\left( \\frac{a - \\mu}{ \\sigma} \\right)$\n",
    "- Other properties:\n",
    "    - $P( \\mu -c \\sigma \\leq X \\leq \\mu + c \\sigma) = P(-c \\leq Z \\leq c)$\n",
    "    - $P(X \\leq \\mu + \\sigma z_{\\alpha}) = P(Z \\leq z_ {\\alpha}) = 1 - \\alpha$"
   ]
  },
  {
   "cell_type": "code",
   "execution_count": 13,
   "metadata": {},
   "outputs": [
    {
     "name": "stdout",
     "output_type": "stream",
     "text": [
      "Mean:  1320\n",
      "Variance:  225\n",
      "Probability mass function:  0.16401007467599366\n",
      "Cumulative distribution function:  0.09121121972586788\n",
      "Survival function (1-cdf):  0.9087887802741321\n",
      "Percent point function (inverse of cdf):  0.8416212335729143\n",
      "Inverse survival function (inverse of (1-cdf)):  -0.8416212335729143\n"
     ]
    }
   ],
   "source": [
    "# This time, we calculate the distribution using the standard normal distribution, by calculating the new variable Z\n",
    "# Same results as in the previous approach. This method is suggested for manual calculation though\n",
    "from scipy.stats import norm\n",
    "\n",
    "# Parameters \n",
    "x = 1300 # value to look for\n",
    "mu = 1320 # mean\n",
    "sigma = 15 # standard deviation\n",
    "# Optional\n",
    "alpha = 0.8 # cdf value used in ppf for calculating the inverse of the probability density function\n",
    "\n",
    "# Parameter transformation\n",
    "Z = (x - mu)/sigma\n",
    "\n",
    "\n",
    "print(\"Mean: \", mu) # the mean is given \n",
    "print(\"Variance: \", sigma**2) # we calculate the variance using the provided standard deviation\n",
    "print(\"Probability mass function: \", norm.pdf(Z))\n",
    "print(\"Cumulative distribution function: \", norm.cdf(Z))\n",
    "print(\"Survival function (1-cdf): \", norm.sf(Z))\n",
    "print(\"Percent point function (inverse of cdf): \", norm.ppf(alpha))\n",
    "print(\"Inverse survival function (inverse of (1-cdf)): \", norm.isf(alpha)) # Useful for finding the critical value"
   ]
  },
  {
   "cell_type": "markdown",
   "metadata": {},
   "source": [
    "### Standard Normal Table"
   ]
  },
  {
   "cell_type": "markdown",
   "metadata": {},
   "source": [
    "- Table to get the values of $X$ given the $\\Phi$. We can also calculate X by the following $ppf$ and $isf$\n",
    "- Given $\\Phi(X) = \\alpha$:\n",
    "    - Percentage point function: inverse of the CDF; returns the value of $X$ given that\n",
    "\\begin{equation}\n",
    "    X = \\text{ppf}(\\alpha) = \\Phi ^{-1} (\\alpha)\n",
    "\\end{equation}\n",
    "    - Inverse survival function: inverse of the survival function (1-CDF); returns the value of $X$ given that\n",
    "\\begin{equation}\n",
    "    X = \\text{isf}(\\alpha) = \\Phi ^{-1} (1 - \\alpha)\n",
    "\\end{equation}\n",
    "    "
   ]
  },
  {
   "cell_type": "code",
   "execution_count": 18,
   "metadata": {},
   "outputs": [
    {
     "name": "stdout",
     "output_type": "stream",
     "text": [
      "Percent point function (inverse of cdf):  0.8416212335729143\n",
      "Inverse survival function (inverse of (1-cdf)):  -0.8416212335729143\n"
     ]
    }
   ],
   "source": [
    "alpha = 0.8 # cdf value used in ppf for calculating the inverse of the probability; same as using the standard normal table\n",
    "\n",
    "from scipy.stats import norm\n",
    "\n",
    "print(\"Percent point function (inverse of cdf): \", norm.ppf(alpha))\n",
    "print(\"Inverse survival function (inverse of (1-cdf)): \", norm.isf(alpha)) # Useful for finding the critical value"
   ]
  },
  {
   "cell_type": "markdown",
   "metadata": {},
   "source": [
    "## Linear Combinations of Normal Random Variables"
   ]
  },
  {
   "cell_type": "markdown",
   "metadata": {},
   "source": [
    "### Linear Functions of a Normal Random Variable"
   ]
  },
  {
   "cell_type": "markdown",
   "metadata": {},
   "source": [
    "- $X \\sim N(\\mu, \\sigma^2) $\n",
    "    - $\\Longrightarrow Y = aX +b \\sim N(a \\mu + b, a^2 \\sigma ^2)$ for constant $a,b$ \n",
    "- Given $X \\sim N(\\mu_1, \\sigma_1^2)$ and $X \\sim N(\\mu_2, \\sigma_2^2)$ independent \n",
    "    - $\\Longrightarrow Y = X_1 + X_2 \\sim N(\\mu_1 + \\mu_2, \\sigma_1^2 + \\sigma_2^2)$ "
   ]
  },
  {
   "cell_type": "markdown",
   "metadata": {},
   "source": [
    "### Properties of independent Normal Random Variables"
   ]
  },
  {
   "cell_type": "markdown",
   "metadata": {},
   "source": [
    "- $ X_i \\sim N(\\mu_i, \\sigma_i^2), 1\\leq i \\leq n$ are independent and $a_i$, $1 \\leq i \\leq n$, and $b$ are constants\n",
    "    - $ Y = a_1X_1 + \\cdots + a_n X_n + b \\sim N(\\mu, \\sigma^2)$\n",
    "    - where $\\mu = a_1\\mu_1 + \\cdots + a_n\\mu_n + b, \\sigma^2 = a_1^2\\sigma_1^2 + \\cdots +a_n^2\\sigma_n^2$ \n",
    "- $X_i \\sim N( \\mu, \\sigma^2)$, $  1\\leq i \\leq n$ are independent\n",
    "    - $ \\bar{X} \\sim N(\\mu, \\frac{\\sigma^2}{n})$ where $\\bar{X} = \\frac{1}{n} \\sum_{i=1}^n X_i$\n",
    "-If $X_1, \\cdots , X_n$ are not independent, then these properties may not be valid anymore\n"
   ]
  },
  {
   "cell_type": "markdown",
   "metadata": {},
   "source": [
    "## Approximating Distributions with the Normal Distribution"
   ]
  },
  {
   "cell_type": "markdown",
   "metadata": {},
   "source": [
    "### The Normal Approximation to the Binomial Distribution"
   ]
  },
  {
   "cell_type": "markdown",
   "metadata": {},
   "source": [
    "Theorem (approximation of a binomial to a normal distribution):\n",
    "- If $X$ is a binomial random variable with mean $\\mu = np$ and variance $\\sigma^2 = npq$, then the limiting form of the distribution of\n",
    "\\begin{equation}\n",
    "    Z = \\frac{X - np}{\\sqrt{npq}},\n",
    "\\end{equation}\n",
    "as $ n \\to \\infty$ is the standard normal distribution $n(z;0,1)$"
   ]
  },
  {
   "cell_type": "markdown",
   "metadata": {},
   "source": [
    "### Continuity correction in the Normal approximation"
   ]
  },
  {
   "cell_type": "markdown",
   "metadata": {},
   "source": [
    "- $X \\sim B(n,p)$ and $Z \\sim N(0,1)$ then:\n",
    "    - $P(X \\leq x) \\approx P \\left( Z \\leq \\frac{x + 0.5 -np}{\\sqrt{npq}} \\right)$\n",
    "    - $P(X \\geq x) \\approx P \\left( Z \\geq \\frac{x - 0.5 -np}{\\sqrt{npq}} \\right)$"
   ]
  },
  {
   "cell_type": "code",
   "execution_count": 10,
   "metadata": {},
   "outputs": [
    {
     "name": "stdout",
     "output_type": "stream",
     "text": [
      "Expectation:  20.0\n",
      "Variance:  256.0\n",
      "Probability distribution function:  0.15962149545986454\n",
      "Cumulative distribution function:  0.5031167048608426\n"
     ]
    }
   ],
   "source": [
    "from scipy.stats import norm\n",
    "\n",
    "# Input\n",
    "n = 100\n",
    "p = 0.2\n",
    "pdf_variable_x = [0, 50] # [star point, end point]\n",
    "cdf_variable_x = 100\n",
    "\n",
    "# Calculate the values\n",
    "mu = n * p\n",
    "sigma = n * p * (1 - p)\n",
    "def approximate(x, mu, sigma):\n",
    "    return (x + 0.5 - mu) / (sigma ** (1/2))\n",
    "pdf_variable = [approximate(pdf_variable_x[0], mu, sigma), \\\n",
    "                approximate(pdf_variable_x[1], mu, sigma)] # [star point, end point]\n",
    "cdf_variable = approximate(cdf_variable_x, mu, sigma)\n",
    "\n",
    "# Calculate\n",
    "exp, var = norm.stats(loc=mu, scale=sigma, moments='mv')\n",
    "pdf = norm.cdf(pdf_variable[1], loc=mu, scale=sigma) - norm.cdf(pdf_variable[0], loc=mu, scale=sigma)\n",
    "cdf = norm.cdf(cdf_variable, loc=mu, scale=sigma)\n",
    "\n",
    "print(\"Expectation: \", exp)\n",
    "print(\"Variance: \", var)\n",
    "print(\"Probability distribution function: \", pdf)\n",
    "print(\"Cumulative distribution function: \", cdf)"
   ]
  },
  {
   "cell_type": "markdown",
   "metadata": {},
   "source": [
    "### The Central Limit Theorem"
   ]
  },
  {
   "cell_type": "markdown",
   "metadata": {},
   "source": [
    "- Let $X_1, \\cdots , X_n$ be _iid_ (independent identically distributed) with a distribution with a mean $\\mu$ and a variance $\\sigma^2$; then\n",
    "\\begin{equation}\n",
    "    \\bar{X} = \\frac{\\sum_i^n X_i}{n} \\approx N \\left( \\mu, \\frac{\\sigma^2}{n} \\right)\n",
    "\\end{equation}\n",
    "for $ n \\to \\infty$"
   ]
  },
  {
   "cell_type": "markdown",
   "metadata": {},
   "source": [
    "- The central limit theorem works better if the distribution for the sample is closer to the normal distribution"
   ]
  },
  {
   "cell_type": "markdown",
   "metadata": {},
   "source": [
    "## Distributions Related to the Normal Distribution"
   ]
  },
  {
   "cell_type": "markdown",
   "metadata": {},
   "source": [
    "### The Lognormal Distribution"
   ]
  },
  {
   "cell_type": "markdown",
   "metadata": {},
   "source": [
    "- $Y = lnX) \\sim N(\\mu, \\sigma^2)$\n",
    "- Probability distribution function:\n",
    "\\begin{equation}\n",
    "    f(x) = \\frac{1}{\\sqrt{2\\pi} \\sigma x} e^{ - \\frac{ (ln(x) - \\mu)^2}{2 \\sigma ^2}} \\text{ for } x > 0\n",
    "\\end{equation}\n",
    "\n",
    "- Cumulative distribution function:\n",
    "\\begin{equation}\n",
    "    F(x) = \\Phi( \\frac{ln (x) - \\mu}{\\sigma})\n",
    "\\end{equation}\n",
    "\n",
    "- $E(X) = e^{ \\mu + \\frac{ \\sigma ^2}{2}} $\n",
    "- $ Var(X) = e^{ 2\\mu + \\sigma^2} ( e^{\\sigma^2} -1)$"
   ]
  },
  {
   "cell_type": "code",
   "execution_count": 33,
   "metadata": {},
   "outputs": [
    {
     "name": "stdout",
     "output_type": "stream",
     "text": [
      "Mean:  1.6487212707001282\n",
      "Variance:  4.670774270471604\n",
      "Probability distribution function:  0.3989422804014327\n",
      "Cumulative distribution function:  0.5\n",
      "Survival function (1-cdf):  0.5\n"
     ]
    }
   ],
   "source": [
    "from scipy.stats import lognorm\n",
    "from math import exp \n",
    "\n",
    "# Parameters\n",
    "x = 1 # value\n",
    "mu = 0 # mean\n",
    "sigma = 1 # standard deviation\n",
    "\n",
    "scale = exp(mu)\n",
    "\n",
    "### NOT WORKING\n",
    "print(\"Mean: \", lognorm.mean(sigma , loc = mu, scale = scale))\n",
    "print(\"Variance: \", lognorm.var(sigma , loc = mu, scale = scale))\n",
    "print(\"Probability distribution function: \", lognorm.pdf(x, sigma , loc = mu, scale = scale))\n",
    "print(\"Cumulative distribution function: \", lognorm.cdf(x, sigma , loc = mu, scale = scale))\n",
    "print(\"Survival function (1-cdf): \", lognorm.sf(x, sigma , loc = mu, scale = scale))"
   ]
  },
  {
   "cell_type": "markdown",
   "metadata": {},
   "source": [
    "### Chi-Square Distribution"
   ]
  },
  {
   "cell_type": "markdown",
   "metadata": {},
   "source": [
    "- $X_i \\sim N(0,1)$ and $X = \\sum_{i =1}^ v X_i ^2$, and $X_i$ are independent. Then $X \\sim \\chi_\\nu^2$ where $\\nu$ is called the degreees of freedom of the distribution\n",
    "- Probability distribution function:\n",
    "\\begin{equation}\n",
    "    f(x) = \\frac{ \\frac{1}{2} e ^ {-x/2} (\\frac{x}{2} ) ^ { \\frac{\\nu}{2} -1} } { \\Gamma( \\frac {\\nu}{2} )}\n",
    "\\end{equation}\n",
    "\\begin{equation}\n",
    "    \\chi_{\\nu}^2 = Gam( \\frac{ \\nu}{2} , \\frac{1}{2} )\n",
    "\\end{equation}\n",
    "\n",
    "- $E(X) = \\nu$\n",
    "- $Var(X) = 2 \\nu$"
   ]
  },
  {
   "cell_type": "markdown",
   "metadata": {},
   "source": [
    "- Critical point: value of $X$ after which the distribution has a CDF equal to $\\alpha$ \n",
    "\\begin{equation}\n",
    "    P(X \\geq \\chi_{ \\alpha, \\nu}^2 ) = \\alpha\n",
    "\\end{equation}"
   ]
  },
  {
   "cell_type": "code",
   "execution_count": 41,
   "metadata": {},
   "outputs": [
    {
     "name": "stdout",
     "output_type": "stream",
     "text": [
      "Expectation:  8.0\n",
      "Variance:  16.0\n",
      "Probability distribution function:  0.10688150862486819\n",
      "Cumulative distribution function:  0.2424238668669339\n",
      "Survival function (1-cdf):  0.7575761331330662\n",
      "Percent point function (inverse of cdf):  3.737459881176144\n",
      "Critical value (inverse of (1-cdf)):  12.77032873743455\n"
     ]
    }
   ],
   "source": [
    "from scipy.stats import chi2\n",
    "\n",
    "# Parameters\n",
    "nu = 8 # degrees of freedom\n",
    "x = 5 # variable\n",
    "alpha = 0.12 # critical value\n",
    "\n",
    "print(\"Expectation: \", chi2.mean(nu))\n",
    "print(\"Variance: \", chi2.var(nu))\n",
    "print(\"Probability distribution function: \", chi2.pdf(x ,nu))\n",
    "print(\"Cumulative distribution function: \", chi2.cdf(x, nu))\n",
    "print(\"Survival function (1-cdf): \", chi2.sf(x, nu))\n",
    "print(\"Percent point function (inverse of cdf): \", chi2.ppf(alpha, nu))\n",
    "print(\"Critical value (inverse of (1-cdf)): \", chi2.ppf(1 - alpha, nu))"
   ]
  },
  {
   "cell_type": "markdown",
   "metadata": {},
   "source": [
    "### The t-Distribution"
   ]
  },
  {
   "cell_type": "markdown",
   "metadata": {},
   "source": [
    "- Given $ Z \\sim N(0,1)$ and $W \\sim \\chi_{\\nu} ^2$ where $Z$ and $W$ are independent, then\n",
    "\\begin{equation}\n",
    "    T_{\\nu} = \\frac{Z} {\\sqrt{ W/ \\nu }} \\sim t_{\\nu}\n",
    "\\end{equation} \n",
    "is a t-distribution with $\\nu$ degrees of freedom"
   ]
  },
  {
   "cell_type": "markdown",
   "metadata": {},
   "source": [
    "- Since the t-distribution is symmetric, the following holds given the $\\alpha$ CDF:\n",
    "\\begin{equation}\n",
    "    1 - \\alpha = P \\left( \\mid X \\mid \\leq t_{\\frac{ \\alpha}{2}, \\nu} \\right) = P \\left( - t_{\\frac{ \\alpha}{2}, \\nu} \\leq X \\leq t_{\\frac{ \\alpha}{2}, \\nu} \\right)\n",
    "\\end{equation}"
   ]
  },
  {
   "cell_type": "code",
   "execution_count": 5,
   "metadata": {},
   "outputs": [
    {
     "name": "stdout",
     "output_type": "stream",
     "text": [
      "Expectation:  0.0\n",
      "Variance:  1.0344827586206897\n",
      "Probability distribution function:  0.3972835557465738\n",
      "Cumulative distribution function:  0.5\n",
      "Survival function (1-cdf):  0.5\n",
      "Percent point function (inverse of cdf):  -2.660283031150686\n",
      "Inverse survival function (inverse of (1-cdf)):  2.660283031150686\n"
     ]
    }
   ],
   "source": [
    "from scipy.stats import t\n",
    "\n",
    "# Parameters\n",
    "nu = 60 # degrees of freedom\n",
    "x = 0 # variable\n",
    "alpha = 0.975 # critical value\n",
    "\n",
    "print(\"Expectation: \", t.mean(nu))\n",
    "print(\"Variance: \", t.var(nu))\n",
    "print(\"Probability distribution function: \", t.pdf(x ,nu))\n",
    "print(\"Cumulative distribution function: \", t.cdf(x, nu))\n",
    "print(\"Survival function (1-cdf): \", t.sf(x, nu))\n",
    "print(\"Percent point function (inverse of cdf): \", t.ppf(alpha, nu))\n",
    "print(\"Inverse survival function (inverse of (1-cdf)): \", t.isf(alpha, nu)) # Useful for finding the critical value"
   ]
  },
  {
   "cell_type": "markdown",
   "metadata": {},
   "source": [
    "### The F-Distribution"
   ]
  },
  {
   "cell_type": "markdown",
   "metadata": {},
   "source": [
    "- $W_i \\sim \\chi_{\\nu_i}^2$ for $ i = 1,2$ and they are independent. Then\n",
    "\\begin{equation}\n",
    "    \\frac{W_1/  \\nu_1}{W_2 / \\nu_2} \\sim F_{\\nu_1 , \\nu_2}\n",
    "\\end{equation}\n",
    "is an F-distribution with degrees of freedom $\\nu_1, \\nu_2$\n",
    "- $F_{1 - \\alpha, \\nu_1, \\nu_2} = \\frac{1}{ F_{\\alpha, \\nu_1, \\nu_2}}$"
   ]
  },
  {
   "cell_type": "code",
   "execution_count": 61,
   "metadata": {},
   "outputs": [
    {
     "name": "stdout",
     "output_type": "stream",
     "text": [
      "Expectation:  1.125\n",
      "Variance:  0.2805572660098522\n",
      "Probability distribution function:  0.9294075640447474\n",
      "Cumulative distribution function:  0.48671282505106833\n",
      "Survival function (1-cdf):  0.5132871749489316\n",
      "Percent point function (inverse of cdf):  2.452651390584542\n",
      "Inverse survival function (inverse of (1-cdf)):  0.4442032125917732\n"
     ]
    }
   ],
   "source": [
    "from scipy.stats import f\n",
    "\n",
    "# Parameters\n",
    "nu1 = 29 # degree of freedom 1\n",
    "nu2 = 18 # degree of freedom 2\n",
    "x = 1 # variable\n",
    "alpha = 0.975 # critical value\n",
    "\n",
    "print(\"Expectation: \", f.mean(nu1, nu2))\n",
    "print(\"Variance: \", f.var(nu1, nu2))\n",
    "print(\"Probability distribution function: \", f.pdf(x ,nu1, nu2))\n",
    "print(\"Cumulative distribution function: \", f.cdf(x, nu1, nu2))\n",
    "print(\"Survival function (1-cdf): \", f.sf(x, nu1, nu2))\n",
    "print(\"Percent point function (inverse of cdf): \", f.ppf(alpha, nu1, nu2))\n",
    "print(\"Inverse survival function (inverse of (1-cdf)): \", f.isf(alpha, nu1, nu2)) # Useful for finding the critical value"
   ]
  },
  {
   "cell_type": "markdown",
   "metadata": {},
   "source": [
    "### Multivariate Normal Distribution"
   ]
  },
  {
   "cell_type": "markdown",
   "metadata": {},
   "source": [
    "- Bivariate normal distribution for $(X,Y)$ with parameters $\\mu_1 , \\mu_2 , \\sigma_1^2 , \\sigma_2^2 , \\rho$, where $\\mu_1 = E(X)$\n",
    "- Variables are: $\\mu_1 = E(X), \\mu_2 = E(Y) , \\sigma_1^2 = Var(X)  , \\sigma_2^2 = Var(Y) , \\rho = Corr(X,Y)$\n",
    "- Joint probability distribution function of $(X,Y)$:\n",
    "\\begin{equation}\n",
    "    f(x,y) = \\frac{1}{2 \\pi \\sigma_1 \\sigma_2 \\sqrt{ 1- \\rho ^2} } e^ { \\left( - \\frac{1}{2 (1 - \\rho^2)} \\left[ x^2 + y^2 -2 \\rho xy \\right] \\right) } \\text{ for } x< \\infty, y < \\infty\n",
    "\\end{equation}"
   ]
  },
  {
   "cell_type": "markdown",
   "metadata": {},
   "source": [
    "- In particular, when $\\mu_1 = \\mu_2 = 0 $ and $\\sigma_1 = \\sigma_2 = 1$\n",
    "\\begin{equation}\n",
    "    f(x,y) = \\frac{1}{2 \\pi \\sqrt{1 - \\rho^2}} e^ { \\left( - \\frac{1}{2 (1 - \\rho^2)} \\left[ x^2 + y^2 -2 \\rho x y \\right] \\right) }\n",
    "\\end{equation}\n",
    "- When $\\mu_1 = \\mu_2 = 0 $ and $\\sigma_1 = \\sigma_2 = 1$ and also there is independence between $X$ and $Y$, so $\\rho = 0$\n",
    "\\begin{equation}\n",
    "    f(x,y) = \\frac{1}{2 \\pi} e^ { \\left( - \\frac{1}{2} \\left[ x^2 + y^2 \\right] \\right) }\n",
    "\\end{equation}"
   ]
  },
  {
   "cell_type": "code",
   "execution_count": 140,
   "metadata": {},
   "outputs": [
    {
     "name": "stdout",
     "output_type": "stream",
     "text": [
      "Probability distribution function:  0.15915494309189535\n"
     ]
    }
   ],
   "source": [
    "from scipy.stats import multivariate_normal\n",
    "\n",
    "mu = ([0, 0]) # means\n",
    "cov = [[1, 0], [0, 1]] # covariance matrix\n",
    "x = 0 # value\n",
    "\n",
    "print(\"Probability distribution function: \", multivariate_normal.pdf(x, mean = mu, cov = cov ))\n",
    "# 怎么办？\n",
    "#print(\"Cumulative distribution function: \", multivariate_normal.cdf(x, mean = mu, cov = cov, maxpts=1000000*len(mu), abseps=1e-5, releps=1e-5))"
   ]
  },
  {
   "cell_type": "code",
   "execution_count": 41,
   "metadata": {},
   "outputs": [
    {
     "name": "stderr",
     "output_type": "stream",
     "text": [
      "MovieWriter imagemagick unavailable; using Pillow instead.\n"
     ]
    },
    {
     "name": "stdout",
     "output_type": "stream",
     "text": [
      "3\n",
      "bla\n"
     ]
    },
    {
     "data": {
      "image/png": "[encoded data removed]",
      "text/plain": [
       "<Figure size 432x288 with 2 Axes>"
      ]
     },
     "metadata": {
      "needs_background": "light"
     },
     "output_type": "display_data"
    },
    {
     "data": {
      "image/png": "[encoded data removed]",
      "text/plain": [
       "<Figure size 432x432 with 1 Axes>"
      ]
     },
     "metadata": {},
     "output_type": "display_data"
    },
    {
     "data": {
      "image/png": "[encoded data removed]",
      "text/plain": [
       "<Figure size 432x288 with 1 Axes>"
      ]
     },
     "metadata": {
      "needs_background": "light"
     },
     "output_type": "display_data"
    },
    {
     "data": {
      "image/png": "[encoded data removed]",
      "text/plain": [
       "<Figure size 432x288 with 1 Axes>"
      ]
     },
     "metadata": {
      "needs_background": "light"
     },
     "output_type": "display_data"
    },
    {
     "data": {
      "image/png": "[encoded data removed]",
      "text/plain": [
       "<Figure size 432x288 with 1 Axes>"
      ]
     },
     "metadata": {
      "needs_background": "light"
     },
     "output_type": "display_data"
    }
   ],
   "source": [
    "# Complete the GIF creator!!\n",
    "\n",
    "import numpy as np\n",
    "import matplotlib.pyplot as plt\n",
    "from scipy.stats import multivariate_normal\n",
    "from mpl_toolkits.mplot3d import Axes3D\n",
    "fig, ax = plt.subplots(1,2)\n",
    "import imageio\n",
    "\n",
    "width = 600\n",
    "height= 600\n",
    "import matplotlib.animation as anim\n",
    "\n",
    "#Parameters to set\n",
    "mu_x = 0\n",
    "variance_x = 3\n",
    "\n",
    "mu_y = 0\n",
    "variance_y = 15\n",
    "\n",
    "fps = 1\n",
    "#Create grid and multivariate normal\n",
    "x = np.linspace(-10,10,500)\n",
    "y = np.linspace(-10,10,500)\n",
    "X, Y = np.meshgrid(x,y)\n",
    "pos = np.empty(X.shape + (2,))\n",
    "pos[:, :, 0] = X; pos[:, :, 1] = Y\n",
    " \n",
    "class AnimatedGif:\n",
    "    def __init__(self, size=(3*width, 3*height)):\n",
    "        self.fig = plt.figure()\n",
    "        self.fig.set_size_inches(size[0] / 100, size[1] / 100)\n",
    "        ax = self.fig.add_axes([0, 0, 1, 1], frameon=False, aspect=1)\n",
    "        ax.set_xticks([])\n",
    "        ax.set_yticks([])\n",
    "        self.images = []\n",
    " \n",
    "    def add(self, image):\n",
    "        plt_im = plt.imshow(image, cmap='viridis', vmin=0, vmax=1, animated=True)\n",
    "        #plt_txt = plt.text(20, 20, label, color='red')\n",
    "        self.images.append([image])\n",
    " \n",
    "    def save(self, filename):\n",
    "        animation = anim.ArtistAnimation(self.fig, self.images)\n",
    "        animation.save(filename, writer='imagemagick', fps=fps)\n",
    "\n",
    "animated_gif = AnimatedGif(size=(width,height))\n",
    "images = []\n",
    "import matplotlib.animation as animation\n",
    "figures = []\n",
    "\n",
    "filename = \"/home/fedebotu/Desktop/multivar.gif\"\n",
    "for i in range(3):\n",
    "    mu_x = 0 \n",
    "    variance_x = 2+ i\n",
    "    mu_y = 0\n",
    "    variance_y = 10+ i\n",
    "    rv = multivariate_normal([mu_x, mu_y], [[variance_x, 0], [0, variance_y]])\n",
    "    #Make a 3D plot\n",
    "    \n",
    "    fig = plt.figure()\n",
    "    ax = fig.gca(projection='3d')\n",
    "    ax.set_xlabel('X values')\n",
    "    ax.set_ylabel('Y values')\n",
    "    ax.set_zlabel('Probabilities')\n",
    "    #ax.plot_surface(X, Y, rv.pdf(pos),cmap='viridis',linewidth=0)\n",
    "    im = ax.plot_surface(X, Y, rv.pdf(pos),cmap='viridis',linewidth=0)\n",
    "    images.append([im])\n",
    "    #animation.save(filename, writer='imagemagick', fps=1)\n",
    "\n",
    "    # plt.imshow(ax.plot_surface(X, Y, rv.pdf(pos),cmap='viridis',linewidth=0))\n",
    "    # animated_gif.add(images[i])\n",
    "print(len(images))\n",
    "#fig  =  plt.figure(\n",
    "print('bla')\n",
    "animation = anim.ArtistAnimation(fig, images)\n",
    "animation.save(filename, writer='imagemagick', fps=10)\n"
   ]
  },
  {
   "cell_type": "code",
   "execution_count": null,
   "metadata": {},
   "outputs": [],
   "source": []
  }
 ],
 "metadata": {
  "kernelspec": {
   "display_name": "Python 3",
   "language": "python",
   "name": "python3"
  },
  "language_info": {
   "codemirror_mode": {
    "name": "ipython",
    "version": 3
   },
   "file_extension": ".py",
   "mimetype": "text/x-python",
   "name": "python",
   "nbconvert_exporter": "python",
   "pygments_lexer": "ipython3",
   "version": "3.8.5"
  },
  "toc-autonumbering": true
 },
 "nbformat": 4,
 "nbformat_minor": 4
}
