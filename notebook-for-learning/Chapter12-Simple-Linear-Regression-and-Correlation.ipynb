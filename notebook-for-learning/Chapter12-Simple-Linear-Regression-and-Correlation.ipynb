{
 "cells": [
  {
   "cell_type": "markdown",
   "metadata": {},
   "source": [
    "# Chapter 12 - Simple Linear Regression and Correlation"
   ]
  },
  {
   "cell_type": "code",
   "execution_count": 1,
   "metadata": {},
   "outputs": [],
   "source": [
    "# Useful libraries\n",
    "import numpy as np\n",
    "import pandas as pd\n",
    "import matplotlib.pyplot as plt\n",
    "from scipy import stats\n",
    "import statsmodels.stats.weightstats as sms\n",
    "from statsmodels.stats.anova import anova_lm\n",
    "from statsmodels.formula.api import ols\n",
    "from statsmodels.stats.multicomp import pairwise_tukeyhsd\n",
    "from statsmodels.graphics.regressionplots import abline_plot\n",
    "import statsmodels.api as sm\n",
    "from statsmodels.api import qqplot\n",
    "from scipy.stats import t\n",
    "from scipy.stats import f\n",
    "from scipy.stats import norm\n",
    "import math\n",
    "from IPython.display import Math, display"
   ]
  },
  {
   "cell_type": "markdown",
   "metadata": {},
   "source": [
    "## The Simple Linear Regression Model"
   ]
  },
  {
   "cell_type": "markdown",
   "metadata": {},
   "source": [
    "### Model Definition and Assumptions\n",
    "The model can be defined as:\n",
    "$$y_i = \\beta_0 + \\beta_1 x_i + \\epsilon_i$$\n",
    "\n",
    "- The observed $y_i$ is composed of a linear function $\\beta_0 + \\beta_1 x_i$ of the $x_i$ independent variable and an **error term** $\\epsilon_i$.\n",
    "- The error terms $\\epsilon_1, \\dots, \\epsilon_n$ are generally taken from a $N(0, \\sigma^2)$ distribution for some **error variance** $\\sigma^2$\n",
    "- This means that $y_1, \\dots, y_n$ are observations from the independent random variables\n",
    "$$Y_i \\sim N(\\beta_0 + \\beta_1 x_i, \\sigma^2)$$\n",
    "- where \n",
    "    - $\\beta_0$: intercept parameter\n",
    "    - $\\beta_1$: slope parameter\n",
    "    - $\\sigma^2$ can be estimated from the data set\n",
    "    \n",
    "- The smaller the error variance, the closer the values are to the line $y = \\beta_0 + \\beta_1x$"
   ]
  },
  {
   "cell_type": "markdown",
   "metadata": {},
   "source": [
    "## Fitting the Regression Line"
   ]
  },
  {
   "cell_type": "markdown",
   "metadata": {},
   "source": [
    "### Parameter Estimation\n",
    "- Let $Q = \\sum_{i=1}^b (y_i - \\beta_0 - \\beta_1 x_i)^2$\n",
    "- We want to find the values $(\\hat{\\beta}_0, \\hat{\\beta}_1)$ called **least squares estimators** minimizing Q\n",
    "- We have to solve\n",
    "    - $\\frac{ \\partial Q}{\\partial \\beta_0} = 0$\n",
    "    - $\\frac{ \\partial Q}{\\partial \\beta_1} = 0$\n",
    "    \n",
    "by which we get\n",
    "$$\\hat{\\beta}_1 = \\frac{ \\sum_{i=1}^n (x_i - \\overline x)(y_i - \\overline y)}{ \\sum_{i=1}^n (x_i - \\overline x)^2} = \\frac{S_{xy}}{S_{xx}}$$\n",
    "$$\\hat{\\beta}_0 = \\overline y - \\hat{\\beta}_1 x$$\n",
    "\n",
    "Where\n",
    "$$S_{xx} = \\sum_{i=1}^n (x_i - \\overline x)^2  = \\sum_{i=1}^n x_i^2 - n \\overline x^2$$\n",
    "$$S_{yy} = \\sum_{i=1}^n (y_i - \\overline y)^2 = \\sum_{i=1}^n y_i^2 - n \\overline y^2$$\n",
    "$$S_{xy} = \\sum_{i=1}^n (x_i - \\overline x)(y_i - \\overline y) = \\sum_{i=1}^n x_i y_i - n \\overline x \\overline y$$\n",
    "\n",
    "The regression (fitted) line is:\n",
    "$$\\hat{y} = \\hat{\\beta}_0 + \\hat{\\beta}_1 x$$\n",
    "\n",
    "- Sum of squared errors (SSE):\n",
    "$$SSE = \\sum_{i=1}^n (y_i - \\hat{y})^2$$\n",
    "    - $E(SSE) = (n-2)\\sigma^2$"
   ]
  },
  {
   "cell_type": "code",
   "execution_count": 2,
   "metadata": {},
   "outputs": [
    {
     "name": "stdout",
     "output_type": "stream",
     "text": [
      "                            OLS Regression Results                            \n",
      "==============================================================================\n",
      "Dep. Variable:                      y   R-squared:                       0.278\n",
      "Model:                            OLS   Adj. R-squared:                  0.238\n",
      "Method:                 Least Squares   F-statistic:                     6.939\n",
      "Date:                Fri, 04 Dec 2020   Prob (F-statistic):             0.0168\n",
      "Time:                        18:04:39   Log-Likelihood:                -67.808\n",
      "No. Observations:                  20   AIC:                             139.6\n",
      "Df Residuals:                      18   BIC:                             141.6\n",
      "Df Model:                           1                                         \n",
      "Covariance Type:            nonrobust                                         \n",
      "==============================================================================\n",
      "                 coef    std err          t      P>|t|      [0.025      0.975]\n",
      "------------------------------------------------------------------------------\n",
      "Intercept     54.2181      6.184      8.767      0.000      41.226      67.211\n",
      "x             -0.3377      0.128     -2.634      0.017      -0.607      -0.068\n",
      "==============================================================================\n",
      "Omnibus:                        2.263   Durbin-Watson:                   2.176\n",
      "Prob(Omnibus):                  0.323   Jarque-Bera (JB):                1.097\n",
      "Skew:                          -0.076   Prob(JB):                        0.578\n",
      "Kurtosis:                       1.863   Cond. No.                         176.\n",
      "==============================================================================\n",
      "\n",
      "Notes:\n",
      "[1] Standard Errors assume that the covariance matrix of the errors is correctly specified.\n"
     ]
    },
    {
     "data": {
      "image/png": "[encoded data removed]",
      "text/plain": [
       "<Figure size 432x288 with 1 Axes>"
      ]
     },
     "metadata": {
      "needs_background": "light"
     },
     "output_type": "display_data"
    },
    {
     "data": {
      "text/latex": [
       "$\\displaystyle \\hat \\beta_0: 54.2181 \\\\ \\hat \\beta_1: -0.3377$"
      ],
      "text/plain": [
       "<IPython.core.display.Math object>"
      ]
     },
     "metadata": {},
     "output_type": "display_data"
    }
   ],
   "source": [
    "# Toy dataset\n",
    "x = np.array([59, 47, 44, 32, 45, 61, 71, \n",
    "              32, 28, 36, 36, 51, 31, 44, \n",
    "              73, 47, 40, 43, 68, 40])\n",
    "y = np.array([23, 45, 29, 55, 48, 42, 32, \n",
    "              33, 34, 52, 40, 35, 45, 47, \n",
    "              26, 42, 35, 41, 29, 38])\n",
    "\n",
    "# Create dataframe\n",
    "data = pd.DataFrame({'x':x, 'y':y})\n",
    "\n",
    "# Data fitting\n",
    "fit = ols('y~x', data).fit()\n",
    "print(fit.summary())\n",
    "\n",
    "# Plots\n",
    "abline_plot(model_results=fit)\n",
    "plt.plot(x, y, 'bo')\n",
    "plt.show()\n",
    "\n",
    "# Fitted coefficients\n",
    "display(Math(r'\\hat \\beta_0: {:.4f} \\\\ \\hat \\beta_1: {:.4f}'.format(\n",
    "    fit.params[0], fit.params[1])))"
   ]
  },
  {
   "cell_type": "code",
   "execution_count": 3,
   "metadata": {},
   "outputs": [
    {
     "data": {
      "text/latex": [
       "$\\displaystyle \\beta_0 = 7.0390\\\\ \\beta_1 = 30.1005$"
      ],
      "text/plain": [
       "<IPython.core.display.Math object>"
      ]
     },
     "metadata": {},
     "output_type": "display_data"
    },
    {
     "data": {
      "text/latex": [
       "$\\displaystyle SSE = 33.2900\\\\ \\sigma^2 = 1.8494$"
      ],
      "text/plain": [
       "<IPython.core.display.Math object>"
      ]
     },
     "metadata": {},
     "output_type": "display_data"
    },
    {
     "name": "stdout",
     "output_type": "stream",
     "text": [
      "y = 22.0893\n"
     ]
    }
   ],
   "source": [
    "'''Example having the sums of x, y, x^2, y^2'''\n",
    "# Parameters\n",
    "n = 20\n",
    "sum_x = 8.552\n",
    "sum_y = 398.2\n",
    "sum_x2 = 5.196\n",
    "sum_y2 = 9356\n",
    "sum_xy = 216.6\n",
    "\n",
    "# Calculations\n",
    "x_bar = sum_x / n\n",
    "y_bar = sum_y / n\n",
    "Sxx = (sum_xy - n * x_bar * y_bar); Sxy = (sum_x2 - n * x_bar ** 2)\n",
    "beta_1 = Sxx / Sxy; beta_0 = y_bar - beta_1 * x_bar\n",
    "SSE = sum_y2 - beta_0 * sum_y - beta_1 * sum_xy\n",
    "sigma2 = SSE / (n - 2)\n",
    "\n",
    "# Results\n",
    "display(Math(r'\\beta_0 = {:.4f}\\\\ \\beta_1 = {:.4f}'.format(beta_0, beta_1)));\n",
    "display(Math(r'SSE = {:.4f}\\\\ \\sigma^2 = {:.4f}'.format(SSE, sigma2)));\n",
    "\n",
    "# Prediction: if x = 0.5, how much is y?\n",
    "x = 0.5; y = beta_0 + beta_1*x; print('y = {:.4f}'.format(y))"
   ]
  },
  {
   "cell_type": "markdown",
   "metadata": {},
   "source": [
    "## Inferences on the Slope Parameter $\\beta_1$"
   ]
  },
  {
   "cell_type": "markdown",
   "metadata": {},
   "source": [
    "### Inference Procedures"
   ]
  },
  {
   "cell_type": "markdown",
   "metadata": {},
   "source": [
    "- Let $\\hat{\\sigma}^2 = \\frac{SSE}{n-2}$\n",
    "- Under the assumption of the linear regression model we have:\n",
    "$$\\frac{SSE}{n-2} \\sim \\chi^2_{n-2}$$\n",
    "\n",
    "- We can build the statistics as: $T = \\frac{\\hat{\\beta}_1 - \\beta_1}{\\hat{\\sigma} / \\sqrt{S_{xx}}}$. Then\n",
    "$$T \\sim t_{n-2}$$\n",
    "\n",
    "- $100(1-\\alpha)$% confidence interval for $\\beta_1$:\n",
    "$$\\hat{\\beta}_1 \\pm t_{\\frac{\\alpha}{2}, n-2} \\frac{\\hat{\\sigma}}{\\sqrt{S_{xx}}}$$\n",
    "\n",
    "where the standard error is\n",
    "$$s.e.(\\hat{\\beta}) = \\frac{\\hat{\\sigma}}{\\sqrt{S_{xx}}}$$"
   ]
  },
  {
   "cell_type": "markdown",
   "metadata": {},
   "source": [
    "### $p$-values\n",
    "\n",
    "We test $\\beta_1$ and $\\beta_{10}$ with the T statistics\n",
    "$$T = \\frac{\\beta_1 - \\beta_{10}}{\\hat{\\sigma} / \\sqrt{S_{xx}}}$$\n",
    "\n",
    "- Two-sided test $H_0: \\beta_1 = \\beta_{10}$ vs $H_A: \\beta_1 \\neq \\beta_{10}$\n",
    "    - $\\Longrightarrow$ p-value = $2P(T > \\mid obs(T) \\mid )$\n",
    "    \n",
    "    \n",
    "- One-sided test $H_0: \\beta_1 \\geq \\beta_{10}$ vs $H_A: \\beta_1 < \\beta_{10}$\n",
    "    - $\\Longrightarrow$ p-value = $P(T < t)$\n",
    "    - A size $\\alpha$ test rejects $H_0$ if $t < -t_{\\alpha, n-2}$\n",
    "    \n",
    "    \n",
    "- One-sided test $H_0: \\beta_1 \\leq \\beta_{10}$ vs $H_A: \\beta_1 > \\beta_{10}$\n",
    "    - $\\Longrightarrow$ p-value = $P(T > t)$\n",
    "    - A size $\\alpha$ test rejects $H_0$ if $t > t_{\\alpha, n-2}$\n",
    "\n",
    "- For a fixed value of the error variance $\\sigma^2$, the variance of the slope parameter estimate decreases as the value of $S_{xx}$ increases $\\Longrightarrow$ the more the values of $x$ are spread out, the more \"leverage\" they will have for fitting the regression line"
   ]
  },
  {
   "cell_type": "code",
   "execution_count": 4,
   "metadata": {},
   "outputs": [
    {
     "name": "stdout",
     "output_type": "stream",
     "text": [
      "Critical point: 2.8188\n",
      "99% Confidence Interval: (0.6239, 0.9863)\n",
      "p-value: 0.0000\n"
     ]
    }
   ],
   "source": [
    "# Parameters\n",
    "n = 24\n",
    "alpha = 0.01\n",
    "beta_hat = 0.8051\n",
    "se_beta = 0.0643 # Standard error\n",
    "beta_10 = 0\n",
    "\n",
    "# Calculations\n",
    "df = n-2; critical = t.ppf(1-alpha/2, df)\n",
    "left = beta_hat - critical * se_beta\n",
    "right = beta_hat + critical * se_beta\n",
    "\n",
    "# T-statistics\n",
    "t_stat = (beta_hat - 0) / se_beta\n",
    "p_value = t.sf(t_stat, df=df)\n",
    "\n",
    "# Printing\n",
    "print('Critical point: {:.4f}'.format(critical))\n",
    "print('99% Confidence Interval: ({:.4f}, {:.4f})'.format(left, right))\n",
    "print('p-value: {:.4f}'.format(2*p_value))"
   ]
  },
  {
   "cell_type": "markdown",
   "metadata": {},
   "source": [
    "## Inferences on the Regression Line"
   ]
  },
  {
   "cell_type": "markdown",
   "metadata": {},
   "source": [
    "### Inference Procedures\n",
    "Inferences on the mean response at $x_0$, $E(Y_{x_0})$\n",
    "- The T-statistics are as following:\n",
    "$$T=\\frac{ \\hat{y}_{x_0} - \\mu_{x_0} }{ \\hat{\\sigma} \\sqrt{ \\frac{1}{n} + \\frac{ (x_0 -\\bar{x})^2}{S_{xx}} }}$$\n",
    "where\n",
    "- $\\hat{y}_{x_0} = \\hat{\\beta}_0 + \\hat{\\beta}_1 x_0$ and $\\mu_{x_0} = E(Y_{x_0}) = \\beta_0 + \\beta_1 x_0$\n",
    "Then\n",
    "$$T \\sim t_{n-2}$$\n",
    "\n",
    "A $100(1-\\alpha)$ confidence interval can be obtained as following:\n",
    "$$\\hat{y}_{x_0} \\pm t_{\\frac{\\alpha}{2}, n-2} \\hat{\\sigma} \\sqrt{ \\frac{1}{n} + \\frac{ (x_0 - \\bar{x})^2 }{S_{xx}} }$$"
   ]
  },
  {
   "cell_type": "code",
   "execution_count": 5,
   "metadata": {},
   "outputs": [
    {
     "name": "stdout",
     "output_type": "stream",
     "text": [
      "Critical point: 2.1314\n",
      "95% Confidence Interval: (1391.90, 1400.26)\n"
     ]
    }
   ],
   "source": [
    "\n",
    "# Parameters\n",
    "n = 17; df = n-2\n",
    "alpha = 0.05\n",
    "beta_1 = 34.60; beta_0 = 12.08\n",
    "x0 = 40; x_bar = 53.2\n",
    "sigma2 = 17.65; Sxx = 1096\n",
    "\n",
    "# Calculations\n",
    "temp = math.sqrt(1/n + (x0 - x_bar)**2/Sxx)\n",
    "sigma = math.sqrt(sigma2)\n",
    "critical = t.ppf(1-alpha/2, df)\n",
    "y_se = critical*sigma*temp\n",
    "yhat_x0 = beta_0 + beta_1*x0 # Prediction\n",
    "left = yhat_x0 - y_se; right = yhat_x0 + y_se\n",
    "\n",
    "# Printing\n",
    "print('Critical point: {:.4f}'.format(critical))\n",
    "print('{:.0f}% Confidence Interval: ({:.2f}, {:.2f})'.format((1-alpha)*100, left, right))"
   ]
  },
  {
   "cell_type": "markdown",
   "metadata": {},
   "source": [
    "## Prediction Intervals for Future Response Values"
   ]
  },
  {
   "cell_type": "markdown",
   "metadata": {},
   "source": [
    "### Inference Procedures\n",
    "- Predicition interval for a single response $Y_{x_0}^{new}$ at $x = x_0$\n",
    "$$Y_{x_0}^{new} - \\hat{y}_{x_0} \\sim N \\left( 0, \\sigma \\sqrt{ 1 + \\frac{1}{n} + \\frac{(x_0 - \\overline x)^2}{S_{xx}}} ) \\right)$$ \n",
    "\n",
    "- The T-statistics can be written as\n",
    "$$T=\\frac{ Y_{x_0}^{new} - \\hat{y}_{x_0} }{ \\hat{\\sigma} \\sqrt{ 1 + \\frac{1}{n} + \\frac{ (x_0 -\\bar{x})^2}{S_{xx}} }}$$\n",
    "\n",
    "- A $100(1-\\alpha)$% prediction interval for a single response $Y_{x_0}^{new}$ can be obtained as:\n",
    "$$\\hat{y}_{x_0} \\pm t_{\\frac{\\alpha}{2}, n-2} \\hat{\\sigma} \\sqrt{1+ \\frac{1}{n} + \\frac{ (x_0 - \\bar{x})^2 }{S_{xx}} }$$"
   ]
  },
  {
   "cell_type": "code",
   "execution_count": 6,
   "metadata": {},
   "outputs": [
    {
     "name": "stdout",
     "output_type": "stream",
     "text": [
      "Critical point: 2.0484\n",
      "95% Confidence Interval: (120.49, 134.83)\n"
     ]
    }
   ],
   "source": [
    "# Parameters\n",
    "n = 30; df = n-2\n",
    "alpha = 0.05\n",
    "beta_0 = 51.98; beta_1 = 3.44\n",
    "x0 = 22 # New value\n",
    "sum_x = 603.36; sum_x2 = 12578.22\n",
    "res = 329.77\n",
    "\n",
    "# Calculate x_bar\n",
    "x_bar = sum_x/n\n",
    "\n",
    "# Calculate Sxx\n",
    "Sxx = sum_x2 - sum_x**2/(n)\n",
    "\n",
    "# Calculate Sigma\n",
    "sigma = math.sqrt(res/(n-2))\n",
    "\n",
    "# Final calculations\n",
    "temp = math.sqrt(1 + 1/n + (x0 - x_bar)**2/Sxx)\n",
    "critical = t.ppf(1-alpha/2, df)\n",
    "y_se = critical*sigma*temp\n",
    "yhat_x0 = beta_0 + beta_1*x0 # Prediction\n",
    "left = yhat_x0 - y_se\n",
    "right = yhat_x0 + y_se\n",
    "\n",
    "# Printing\n",
    "print('Critical point: {:.4f}'.format(critical))\n",
    "print('{:.0f}% Confidence Interval: ({:.2f}, {:.2f})'.format((1-alpha)*100, left, right))"
   ]
  },
  {
   "cell_type": "markdown",
   "metadata": {},
   "source": [
    "## The Analysis of Variance Table"
   ]
  },
  {
   "cell_type": "markdown",
   "metadata": {},
   "source": [
    "### Sum of Squared Decomposition\n",
    "- Total sum of squares (SST)\n",
    "$$SST = S_{yy} = \\sum_{i=1}^n (y_i - \\hat{y}_i)^2 + \\sum_{i=1}^n (\\hat{y}_i - \\overline y)^2 = SSE + SSR$$"
   ]
  },
  {
   "cell_type": "markdown",
   "metadata": {},
   "source": [
    "### Analysis of Variance for Simple Linear Regression Analysis\n",
    "\n",
    "| Source     | d.f.      | Sum of  Squares | Mean Squares          | F-statistic            | P-value                         |\n",
    "|------------|-----------|-----------------|-----------------------|------------------------|---------------------------------|\n",
    "| Treatments | $$1$$   | SSR           | $$MSR$$  | $$F=\\frac{MSR}{MSE}$$ | $$P(F_{1,n -2} > F)$$ |\n",
    "| Error      | $$n-2$$ | SSE             | $$MSE=SSE/(n-2)$$ |                        |                                 |\n",
    "| Total      | $$n-1$$ | SST             |                       |                        |                                 |"
   ]
  },
  {
   "cell_type": "markdown",
   "metadata": {},
   "source": [
    "### The Coefficient of Determination\n",
    "$$R^2 = \\frac{SSR}{SST} = 1 - \\frac{SSE}{SST}$$"
   ]
  },
  {
   "cell_type": "markdown",
   "metadata": {},
   "source": [
    "### The sample correlation coefficient and the coefficient of determination\n",
    "\n",
    "- The sample correlation coefficient is\n",
    "$$r = \\frac{S_{xy}}{\\sqrt{S_{xx}S_{yy}}} = \\hat{\\beta}_1 \\sqrt{ \\frac{S_{xx}}{S_{yy}}}$$\n",
    "$$\\hat{\\beta}_1^2 S_{xx} = \\sum_{i=1}^n (\\hat{\\beta}_1 (x_i - \\overline x))^2 = \\sum_{i=1}^n (\\hat{y}_i - \\overline y)^2 = SSR$$\n",
    "\n",
    "$\\Longrightarrow r^2 = \\frac{SSR}{SST} = 1 - \\frac{SSE}{SST} = R^2$ "
   ]
  },
  {
   "cell_type": "code",
   "execution_count": 7,
   "metadata": {},
   "outputs": [
    {
     "name": "stdout",
     "output_type": "stream",
     "text": [
      "\n",
      "ANOVA results\n",
      "            df      sum_sq    mean_sq        F   PR(>F)\n",
      "x          1.0   87.588894  87.588894  1.24535  0.29054\n",
      "Residual  10.0  703.327773  70.332777      NaN      NaN\n"
     ]
    },
    {
     "data": {
      "text/latex": [
       "$\\displaystyle R^2 = 0.1107$"
      ],
      "text/plain": [
       "<IPython.core.display.Math object>"
      ]
     },
     "metadata": {},
     "output_type": "display_data"
    }
   ],
   "source": [
    "# Toy dataset\n",
    "x = np.array([52, 68, 64, 88, 80, 75,\n",
    "              59, 63, 85, 74, 71, 66])\n",
    "\n",
    "y = np.array([64, 53, 58, 59, 49, 54,\n",
    "              38, 48, 68, 63, 58, 47])\n",
    "\n",
    "# Data processing\n",
    "data = pd.DataFrame({'x': x, 'y': y})\n",
    "\n",
    "# Fit the model\n",
    "model = ols(\"y ~ x\", data).fit()\n",
    "\n",
    "# Print the summary\n",
    "# print(model.summary())\n",
    "\n",
    "# Anova table\n",
    "anova_results = anova_lm(model)\n",
    "print('\\nANOVA results'); print(anova_results)\n",
    "\n",
    "SSE = anova_results['sum_sq'][0]\n",
    "SSR = anova_results['sum_sq'][1]\n",
    "\n",
    "# Calculate R^2\n",
    "R2 = SSE/(SSR+SSE); display(Math('R^2 = {:.4f}'.format(R2)))"
   ]
  },
  {
   "cell_type": "markdown",
   "metadata": {},
   "source": [
    "## Residual Analysis"
   ]
  },
  {
   "cell_type": "markdown",
   "metadata": {},
   "source": [
    "### Residual Analysis Method\n",
    "- The residuals are defined to be\n",
    "$$e_i = y_i - \\hat{y}_i, \\; 1 \\leq i \\leq n$$\n",
    "\n",
    "- That satisfy: $\\sum_{i=1}^n e_i = 0$\n",
    "\n",
    "- Residual analysis can be used to:\n",
    "    - Identify outliers\n",
    "        - For instance, outliers have a large *absolute value* $e_i$\n",
    "    - Check if the fitted model is appropriate\n",
    "    - Check if the error variance is constant\n",
    "    - Check if the error terms are normally distributed\n",
    "    \n",
    "\n",
    "\n",
    "$$Var(e_i) = \\left( 1 + \\frac{1}{n} + \\frac{ (x_i - \\overline x)^2}{S_{xx}} \\right) \\sigma^2$$\n",
    "\n",
    "The normal score of the $i$-th smallest residual is\n",
    "$$\\Phi^{-1} \\left( \\frac{i-\\frac{3}{8}}{n + \\frac{1}{4}} \\right)$$"
   ]
  },
  {
   "cell_type": "code",
   "execution_count": 8,
   "metadata": {},
   "outputs": [
    {
     "data": {
      "image/png": "[encoded data removed]",
      "text/plain": [
       "<Figure size 432x288 with 1 Axes>"
      ]
     },
     "metadata": {
      "needs_background": "light"
     },
     "output_type": "display_data"
    },
    {
     "data": {
      "image/png": "[encoded data removed]",
      "text/plain": [
       "<Figure size 432x288 with 1 Axes>"
      ]
     },
     "metadata": {
      "needs_background": "light"
     },
     "output_type": "display_data"
    }
   ],
   "source": [
    "# Toy dataset\n",
    "x = np.array([52, 68, 64, 88, 80, 75,\n",
    "              59, 63, 85, 74, 71, 66])\n",
    "\n",
    "y = np.array([64, 53, 58, 59, 49, 54,\n",
    "              38, 48, 68, 63, 58, 47])\n",
    "\n",
    "# Data processing\n",
    "data = pd.DataFrame({'x': x, 'y': y})\n",
    "\n",
    "# Fit the model\n",
    "model = ols(\"y~x\", data).fit()\n",
    "\n",
    "# Obtain residuals\n",
    "res = model.resid\n",
    "\n",
    "# Plotting\n",
    "# fig, ax = plt.figure(figsize=(10, 6))\n",
    "plt.plot(x, res, 'x'); plt.xlabel(r'Temperature'); plt.ylabel(r'$e_i$')\n",
    "plt.axhline(linewidth=1, color='r'); plt.title(\"Residuals scatter plot\")\n",
    "qqplot(res, color='black', markersize=3);"
   ]
  },
  {
   "cell_type": "markdown",
   "metadata": {},
   "source": [
    "## Intrinsically Linear Models"
   ]
  },
  {
   "cell_type": "markdown",
   "metadata": {},
   "source": [
    "- Models that can be linearized via transformations\n",
    "- Example model:\n",
    "$$M = \\gamma_0 \\theta^{\\gamma_1}$$\n",
    "\n",
    "$\\Longrightarrow$ we can rewrite the model as:\n",
    "$$ln(M) = ln(\\gamma_0) + \\gamma_1 ln(\\theta)$$"
   ]
  },
  {
   "cell_type": "code",
   "execution_count": 32,
   "metadata": {},
   "outputs": [
    {
     "data": {
      "text/latex": [
       "$\\displaystyle \\beta_0 = 4.4967\\\\ \\beta_1 = 4.9931$"
      ],
      "text/plain": [
       "<IPython.core.display.Math object>"
      ]
     },
     "metadata": {},
     "output_type": "display_data"
    },
    {
     "data": {
      "image/png": "[encoded data removed]",
      "text/plain": [
       "<Figure size 432x288 with 1 Axes>"
      ]
     },
     "metadata": {
      "needs_background": "light"
     },
     "output_type": "display_data"
    }
   ],
   "source": [
    "# Toy dataset\n",
    "x = np.array([0.5, 0.54, 0.57, 0.65, 0.69,\n",
    "              0.73,0.78, 0.85, 0.97, 1.04])\n",
    "\n",
    "y = np.array([2, 4, 7, 11, 13, 21, 32, 48, 64, 91])\n",
    "\n",
    "# Data processing\n",
    "data = pd.DataFrame({'Pressure Differential': y, 'Cross-Sectional Area': x})\n",
    "\n",
    "# We transform the data via a log transformation\n",
    "x = np.log(x); y = np.log(y)\n",
    "\n",
    "# Plot for showing the transformed data\n",
    "plt.plot(x, y, 'x'); plt.xlabel(r'$ln(x)$')\n",
    "plt.ylabel(r'$ln(y)$'); plt.title('Scatter plot of the transformed data')\n",
    "\n",
    "# Data fitting\n",
    "model = ols('y~x', data).fit()\n",
    "display(Math(r'\\beta_0 = {:.4f}\\\\ \\beta_1 = {:.4f}'.format(model.params[0], model.params[1])))"
   ]
  },
  {
   "cell_type": "markdown",
   "metadata": {},
   "source": [
    "## Correlation Analysis"
   ]
  },
  {
   "cell_type": "markdown",
   "metadata": {},
   "source": [
    "### The Sample Correlation Coefficient"
   ]
  },
  {
   "cell_type": "markdown",
   "metadata": {},
   "source": [
    "- Under the assumption that X and Y are jointly bivariate normal in distribution\n",
    "- We test $H_0: \\rho = 0$ versus $H_A: \\rho \\neq 0$, the test statistic is:\n",
    "$$T = \\frac{r \\sqrt{n-2} }{\\sqrt{1-r^2}} \\sim t_{n-2} \\text{ under }H_0$$\n",
    "\n",
    "- The test is equivalent to testing $H_0: \\beta_1 = 0$ vs $H_A: \\beta_1 \\neq 0$. In fact:\n",
    "$$T = \\frac{ \\hat{\\beta}_1 }{ s.e.(\\hat{\\beta}_1) } = \\frac{ \\hat{\\beta}_1 }{\\hat{\\sigma} / \\sqrt{S_{xx}} } = \\frac{r \\sqrt{n-2} }{\\sqrt{1-r^2}}$$\n",
    "where $r$ is the Pearson's correlation coefficient calculated as\n",
    "$$r = \\frac{ \\sum (x_i - \\overline x)(y_i - \\overline y) }{ \\sqrt{ \\sum (x_i - \\overline x)^2 \\sum (y_i - \\overline y)^2 } } = \\frac{ cov(X, Y)}{ \\sigma_X \\sigma_Y} = \\frac{S_{xy}}{\\sqrt{S_{xx}S_{yy}}} = \\hat{\\beta}_1 \\sqrt{\\frac{S_{xx}}{S_{yy}}}$$\n",
    "\n",
    "- Recall that $SSR = \\sum_i^n(\\hat{y}_i - \\overline y)^2 = \\sum_i^n(\\hat{\\beta}_1(x_i - \\overline x))^2 = \\hat{\\beta}_1^2 S_{xx}$"
   ]
  },
  {
   "cell_type": "code",
   "execution_count": 34,
   "metadata": {},
   "outputs": [
    {
     "name": "stdout",
     "output_type": "stream",
     "text": [
      "Correlation coefficient (manual calculation): 0.9365\n",
      "Correlation coefficient (via Numpy): 0.9365\n",
      "t-statistics with method: 12.5264\n"
     ]
    }
   ],
   "source": [
    "# Toy dataset\n",
    "x = np.array([60, 61, 63, 63, 65, 65, 65, 66,\n",
    "              68, 68, 69, 70, 70, 72, 72, 72,\n",
    "              74, 75, 77, 77, 80, 80, 81, 81])\n",
    "\n",
    "y = np.array([59.47, 63.43, 61.59, 62.44, 65.84,\n",
    "              64.21, 66.87, 64.82, 68.93, 69.71, \n",
    "              69.80, 67.95, 71.14, 68.71, 71.64, \n",
    "              73.06, 70.73, 74.57, 70.86, 76.09,\n",
    "              73.89, 78.39, 76.87, 81.53])\n",
    "\n",
    "# Covariance\n",
    "def cov(X, Y):\n",
    "    x_bar = X.mean()\n",
    "    y_bar = Y.mean()\n",
    "    return sum( (X - x_bar)*(Y - y_bar) )\n",
    "\n",
    "# Standard deviation\n",
    "def sigma(X):\n",
    "    x_bar = X.mean()\n",
    "    return math.sqrt(sum( (X - x_bar)**2 ))\n",
    "\n",
    "r = cov(x, y)/(sigma(x)*sigma(y))\n",
    "print('Correlation coefficient (manual calculation): {:.4f}'.format(r))\n",
    "print('Correlation coefficient (via Numpy): {:.4f}'.format(np.corrcoef(x, y)[0, 1]))\n",
    "\n",
    "n = len(x)\n",
    "t_stat_1 = r*math.sqrt(n - 2)/ math.sqrt(1 - r**2)\n",
    "print('t-statistics with method: {:.4f}'.format(t_stat_1))"
   ]
  }
 ],
 "metadata": {
  "kernelspec": {
   "display_name": "Python 3",
   "language": "python",
   "name": "python3"
  },
  "language_info": {
   "codemirror_mode": {
    "name": "ipython",
    "version": 3
   },
   "file_extension": ".py",
   "mimetype": "text/x-python",
   "name": "python",
   "nbconvert_exporter": "python",
   "pygments_lexer": "ipython3",
   "version": "3.8.5"
  }
 },
 "nbformat": 4,
 "nbformat_minor": 4
}
