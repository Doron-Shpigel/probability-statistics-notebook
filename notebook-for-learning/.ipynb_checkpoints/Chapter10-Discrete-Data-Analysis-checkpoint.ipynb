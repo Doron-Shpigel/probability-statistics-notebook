{
 "cells": [
  {
   "cell_type": "markdown",
   "metadata": {},
   "source": [
    "# Chapter 10 - Discrete Data Analysis"
   ]
  },
  {
   "cell_type": "code",
   "execution_count": 3,
   "metadata": {},
   "outputs": [],
   "source": [
    "# Useful libraries\n",
    "import numpy as np\n",
    "import pandas as pd\n",
    "import matplotlib.pyplot as plt\n",
    "from scipy import stats\n",
    "import statsmodels.stats.weightstats as sms\n",
    "from scipy.stats import t\n",
    "from scipy.stats import norm\n",
    "import math\n",
    "from IPython.display import Math, display"
   ]
  },
  {
   "cell_type": "markdown",
   "metadata": {},
   "source": [
    "## Inferences on a Population Proportion"
   ]
  },
  {
   "cell_type": "markdown",
   "metadata": {},
   "source": [
    "If we have a population proportion $p$ with characteristic, then for the random sample size of $n$ we have:\n",
    "- With characteristic: cell probability $p$; cell frequency $x$\n",
    "- Without characteristic: cell probability $1-p$; cell frequency $n-x$\n",
    "\n",
    "Given a sample proportion $\\hat{p}$:\n",
    "- $X \\sim B(n,p)$\n",
    "- $\\hat{p} = \\frac{x}{n}$\n",
    "- $E(\\hat{p})$ and $Var(\\hat{p} = \\frac{p(1-p)}{n}$\n",
    "\n",
    "For large $n$ we have\n",
    "- $\\hat{p} \\sim N(p, \\frac{p(1-p)}{f} \\approx N(p, \\frac{\\hat{p}(1-\\hat{p})}{n}$ "
   ]
  },
  {
   "cell_type": "markdown",
   "metadata": {},
   "source": [
    "### Confidence Intervals for Population Proportions"
   ]
  },
  {
   "cell_type": "markdown",
   "metadata": {},
   "source": [
    "- Two sided confidence intervals for a population proportion\n",
    "$$\\left( \\hat{p} -z_{\\alpha/2} \\sqrt{ \\frac{ \\hat{p}(1-\\hat{p}) }{n} }, \\hat{p} + z_{\\alpha/2} \\sqrt{ \\frac{ \\hat{p}(1-\\hat{p}) }{n}  } \\right)$$\n",
    "\n",
    "- One sided with a lower bound\n",
    "$$\\left( \\hat{p} - z_{\\alpha} \\sqrt{ \\frac{ \\hat{p}(1-\\hat{p}) }{n} }, 1 \\right)$$\n",
    "\n",
    "- One sided with a upper bound\n",
    "$$\\left( 0,  \\hat{p} + z_{\\alpha} \\sqrt{ \\frac{ \\hat{p}(1-\\hat{p}) }{n} } \\right)$$\n",
    "\n",
    "    - The results are safe if both $x$ and $n-x$ are $> 5$\n",
    "   "
   ]
  },
  {
   "cell_type": "code",
   "execution_count": 20,
   "metadata": {},
   "outputs": [
    {
     "data": {
      "text/latex": [
       "$\\displaystyle z_\\alpha= 1.6449$"
      ],
      "text/plain": [
       "<IPython.core.display.Math object>"
      ]
     },
     "metadata": {},
     "output_type": "display_data"
    },
    {
     "data": {
      "text/latex": [
       "$\\displaystyle z_\\alpha/2 = 1.9600$"
      ],
      "text/plain": [
       "<IPython.core.display.Math object>"
      ]
     },
     "metadata": {},
     "output_type": "display_data"
    }
   ],
   "source": [
    "# Calculating z_alpha:\n",
    "alpha = 0.05 # 95% confidence interval\n",
    "\n",
    "# Calculate via Gaussian distribution\n",
    "display(Math(r'z_\\alpha= {:.4f}'.format(norm.ppf(1-alpha)))) # One sided\n",
    "display(Math(r'z_\\alpha/2 = {:.4f}'.format(norm.ppf(1-alpha/2)))) # Two sided"
   ]
  },
  {
   "cell_type": "markdown",
   "metadata": {},
   "source": [
    "### Hypothesis Tests on a Population Proportion"
   ]
  },
  {
   "cell_type": "markdown",
   "metadata": {},
   "source": [
    "- Two-sided tests: $H_0: p=p_0$ vs $H_A: p\\neq p_0$\n",
    "\n",
    "$\\Longrightarrow p-value = min [ P(X \\geq x), P(X \\leq x)]$, where $X \\sim B(n, p_0)$\n",
    "\n",
    "- When $np_0$ and $n(1 - p_0 )$ are both larger than 5, a normal approximation may be used to compute the p-value\n",
    "$p-value = 2 \\times \\Phi(- \\mid z \\mid)$ \n",
    "\n",
    "where \n",
    "\n",
    "$$z = \\frac{ \\hat{p} - p_0 }{ \\sqrt{ p_0 (1-p_0)/n } } \\sim N(0,1)$$\n",
    "\n",
    "- Continuity correction can be used for a better approximation to the $p$-value.\n",
    "\n",
    "- A size α hypothesis test rejects $H_0$ when \n",
    "$$\\mid z \\mid > z_{\\alpha / 2} \\text{ or } p-value < \\alpha$$"
   ]
  },
  {
   "cell_type": "markdown",
   "metadata": {},
   "source": [
    "### One-sided hypothesis tests for a population mean\n",
    "- For testing $H_0: p \\geq p_0$ vs $H_A: p<p_0$\n",
    "\n",
    "$\\Longrightarrow p-value = P(X \\leq x) \\text{ where } X \\sim B(n, p_0)$\n",
    "\n",
    "- By the normal approximation: $p-value = \\Phi(z)$ where\n",
    "$$z = \\frac{x + 0.5 - np_0}{ \\sqrt{ np_0 (1-p_0) } }$$\n",
    "\n",
    "- $+ 0.5$ is the continuity correction. If we want to test the opposite, then we have $-0.5$"
   ]
  },
  {
   "cell_type": "code",
   "execution_count": 27,
   "metadata": {},
   "outputs": [
    {
     "name": "stdout",
     "output_type": "stream",
     "text": [
      "z-statistics = 5.4775\n",
      "p-value = 0.0000\n",
      "95% Confidence interval: (0.1246, 1)\n"
     ]
    }
   ],
   "source": [
    "\"\"\"Example: test H_0: p <=  p_0 =  0.05 \"\"\"\n",
    "# Parameters\n",
    "x = 13\n",
    "n = 62\n",
    "p0 = 0.05\n",
    "alpha = 0.05\n",
    "\n",
    "# Check x = 13 > 5 and n − x = 62 − 13 > 5.\n",
    "# Calculate the z statistics as\n",
    "z = (x - n*p0 -0.5)/math.sqrt( n*p0*(1-p0))\n",
    "\n",
    "# P-value\n",
    "print('z-statistics = {:.4f}'.format(z))\n",
    "print('p-value = {:.4f}'.format(1 - norm.cdf(5.48)))\n",
    "\n",
    "# 95% one sided confidence interval\n",
    "p_hat = x/n; crit = norm.ppf(1-alpha)\n",
    "wing_span = crit*math.sqrt(( p_hat*(1-p_hat)) /n)\n",
    "print('{:.0f}% Confidence interval: ({:.4f}, 1)'.format(((1-alpha)*100), p_hat - wing_span))"
   ]
  },
  {
   "cell_type": "code",
   "execution_count": 30,
   "metadata": {},
   "outputs": [
    {
     "name": "stdout",
     "output_type": "stream",
     "text": [
      "1 sample proportions test \n",
      " Z = -1.0050, p-value = 0.3149\n",
      "Exact binomial test \n",
      " p-value = 0.5034\n"
     ]
    }
   ],
   "source": [
    "# Other example\n",
    "from statsmodels.stats.proportion import proportions_ztest\n",
    "from scipy.stats import binom_test\n",
    "zstat, pvalue = proportions_ztest(45,100,0.5)\n",
    "print(\"1 sample proportions test \\n Z = %.4f, p-value = %.4f\" %(zstat,\n",
    "pvalue))\n",
    "pvalue = binom_test(8,20,0.5)\n",
    "print(\"Exact binomial test \\n p-value = %.4f\" %pvalue)"
   ]
  },
  {
   "cell_type": "markdown",
   "metadata": {},
   "source": [
    "### Sample size calculations\n",
    "- Considering a two sided $1-\\alpha$ level confidence interval\n",
    "$$L = 2 z _{\\alpha/2} \\sqrt{\\frac{\\hat{p} (1-\\hat{p})}{n}}$$\n",
    "\n",
    "- If $\\hat{p}$ is not available,\n",
    "$$L = 2 z _{\\alpha/2} \\sqrt{\\frac{\\hat{p} (1-\\hat{p})}{n}} \\leq z_{\\alpha/2} \\sqrt{ \\frac{1}{n} } $$\n",
    "\n",
    "Then e.g.\n",
    "$$\\Longrightarrow n \\geq \\frac{4 z^2_{\\alpha/2} \\hat{p} (1-\\hat{p})}{L^2}$$\n"
   ]
  },
  {
   "cell_type": "markdown",
   "metadata": {},
   "source": [
    "## Comparing Two Population Proportions"
   ]
  },
  {
   "cell_type": "markdown",
   "metadata": {},
   "source": [
    "### Confidence Intervals for the Difference Between Two Population Proportions\n",
    "\n",
    "- Assume $X \\sim B(n, p_A)$ and $Y \\sim B(m, p_B)$ and they are independent\n",
    "\n",
    "- $1-\\alpha$ confidence intervals for $p_A - p_B$\n",
    "\n",
    "    - Two-sided:\n",
    "\n",
    "$$\\hat{p}_a - \\hat{p}_b \\pm z_{\\alpha / 2} \\sqrt{ \\frac { \\hat{p}_a (1- \\hat{p}_a ) }{n} + \\frac{ \\hat{p}_b (1- \\hat{p}_b)}{m} }$$\n",
    "\n",
    "    - One-sided with a lower bound:\n",
    "$$\\left( \\hat{p}_a - \\hat{p}_b - z_{\\alpha} \\sqrt{ \\frac { \\hat{p}_a (1- \\hat{p}_a ) }{n} + \\frac{ \\hat{p}_b (1- \\hat{p}_b)}{m} }, 1 \\right)$$\n",
    "    \n",
    "    - One-sided with an upper bound:\n",
    "$$\\left( -1, \\hat{p}_a - \\hat{p}_b + z_{\\alpha / 2} \\sqrt{ \\frac { \\hat{p}_a (1- \\hat{p}_a ) }{n} + \\frac{ \\hat{p}_b (1- \\hat{p}_b)}{m} } \\right)$$\n",
    "\n",
    "- These approximations are reasonable as long as x, n − x, y, and n − y are all larger than 5."
   ]
  },
  {
   "cell_type": "markdown",
   "metadata": {},
   "source": [
    "### Hypothesis Tests on the Difference Between Two Population Proportions"
   ]
  },
  {
   "cell_type": "markdown",
   "metadata": {},
   "source": [
    "- For testing $H_0: p_A = p_B$ vs $H_A: p_A \\neq p_B$\n",
    "    - p-value: $2 \\times \\Phi(- \\mid z \\mid)$ where\n",
    "$$z = \\frac{\\hat{p}_A - \\hat{p}_B}{ \\sqrt{\\hat{p}(1-\\hat{p})(\\frac{1}{n} + \\frac{1}{m}) } } \\text{ and } \\hat{p} = \\frac{x+y}{n+m}$$\n",
    "\n",
    "- For $H_0: p_A \\geq p_B$ vs $H_A: p_A < p_B$\n",
    "$\\Longrightarrow \\text{ p-value = } \\Phi(z)$\n",
    "\n",
    "- For $H_0: p_A \\leq p_B$ vs $H_A: p_A > p_B$\n",
    "$\\Longrightarrow \\text{ p-value = } 1-\\Phi(z)$\n",
    "\n",
    "- Reject $H_0$ if $p$-value is smaller than the significance level $\\alpha$, otherwise accept"
   ]
  },
  {
   "cell_type": "code",
   "execution_count": 39,
   "metadata": {},
   "outputs": [
    {
     "name": "stdout",
     "output_type": "stream",
     "text": [
      "Z = -1.7292\n",
      "p-value = 0.0838\n"
     ]
    }
   ],
   "source": [
    "# Example\n",
    "x = 4\n",
    "y = 10\n",
    "n = 50\n",
    "m = 50\n",
    "p_a = x/n\n",
    "p_b = y/m\n",
    "\n",
    "# Pooled probability\n",
    "p_hat = (x+y)/(n+m)\n",
    "\n",
    "# Test statistics\n",
    "z_test = (p_a - p_b)/math.sqrt(p_hat*(1-p_hat)*(1/n + 1/m))\n",
    "\n",
    "print('Z = {:.4f}'.format(z_test))\n",
    "print('p-value = {:.4f}'.format(2*norm.cdf(- abs(z_test))))"
   ]
  },
  {
   "cell_type": "code",
   "execution_count": 38,
   "metadata": {},
   "outputs": [
    {
     "name": "stdout",
     "output_type": "stream",
     "text": [
      "2 sample test for equality of proportions \n",
      " Z = 0.1547, p-value = 0.8770\n"
     ]
    }
   ],
   "source": [
    "# Other example\n",
    "from statsmodels.stats.proportion import proportions_ztest\n",
    "stat, pvalue = proportions_ztest([12, 8], [34, 24]) #([x1,x2],[n1,n2])\n",
    "print('2 sample test for equality of proportions \\n Z = %.4f, p-value = %.4f' %(stat, pvalue))"
   ]
  },
  {
   "cell_type": "markdown",
   "metadata": {},
   "source": [
    "## Goodness of Fit Tests for One-Way Contingency Tables"
   ]
  },
  {
   "cell_type": "markdown",
   "metadata": {},
   "source": [
    "### One-Way Classifications\n",
    "Each of $n$ observations is classified into one of $k$ categories or cells"
   ]
  },
  {
   "cell_type": "code",
   "execution_count": null,
   "metadata": {},
   "outputs": [],
   "source": []
  },
  {
   "cell_type": "code",
   "execution_count": null,
   "metadata": {},
   "outputs": [],
   "source": []
  },
  {
   "cell_type": "code",
   "execution_count": null,
   "metadata": {},
   "outputs": [],
   "source": []
  }
 ],
 "metadata": {
  "kernelspec": {
   "display_name": "Python 3",
   "language": "python",
   "name": "python3"
  },
  "language_info": {
   "codemirror_mode": {
    "name": "ipython",
    "version": 3
   },
   "file_extension": ".py",
   "mimetype": "text/x-python",
   "name": "python",
   "nbconvert_exporter": "python",
   "pygments_lexer": "ipython3",
   "version": "3.8.5"
  }
 },
 "nbformat": 4,
 "nbformat_minor": 4
}
