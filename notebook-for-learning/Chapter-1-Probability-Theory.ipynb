{
 "cells": [
  {
   "cell_type": "code",
   "execution_count": 2,
   "metadata": {},
   "outputs": [],
   "source": [
    "'''\n",
    "Import here useful libraries\n",
    "Run this cell first for convenience\n",
    "'''\n",
    "import numpy as np\n",
    "from scipy import stats\n",
    "import scipy\n",
    "import warnings\n",
    "warnings.simplefilter('ignore', DeprecationWarning)"
   ]
  },
  {
   "cell_type": "markdown",
   "metadata": {},
   "source": [
    "# Chapter 1 - Probability Theory"
   ]
  },
  {
   "cell_type": "markdown",
   "metadata": {},
   "source": [
    "## Probabilities"
   ]
  },
  {
   "cell_type": "markdown",
   "metadata": {},
   "source": [
    "### Introduction\n"
   ]
  },
  {
   "cell_type": "markdown",
   "metadata": {},
   "source": [
    "- Statistics and probability theory constitute a branch of mathematics for dealing with _uncertainty_. The probability theory provides a basis for the science of _statistical inference_ from data\n",
    "- Sample: (of size n) obtained from a mother population assumed to be represented by a probability\n",
    "- Descriptive statistics: description of the sample\n",
    "- Inferential statistics: making a decision or an inference from a sample of our problem"
   ]
  },
  {
   "cell_type": "markdown",
   "metadata": {},
   "source": [
    "### Sample Spaces"
   ]
  },
  {
   "cell_type": "markdown",
   "metadata": {},
   "source": [
    "- Experiment: any process or procedure for which more than one outcome is possible\n",
    "- Sample Space: set of all the possible experimental outcomes"
   ]
  },
  {
   "cell_type": "markdown",
   "metadata": {},
   "source": [
    "### Probability Values"
   ]
  },
  {
   "cell_type": "markdown",
   "metadata": {},
   "source": [
    "A set of probability values for an experiment with sample space $S = \\{ O_1, O_2, \\cdots, O_n \\}$  consists of some probabilities that satisfy:\n",
    "\\begin{equation}\n",
    "   0 \\leq p_i \\leq 1, \\hspace{0.5cm} i= 1,2, \\cdots, n\n",
    "\\end{equation}\n",
    "and\n",
    "\\begin{equation}\n",
    "   p_1 +p_2 + \\cdots +p_n = 1\n",
    "\\end{equation}\n",
    "The probability of outcome $O_i$ occurring is said to be $p_i$ and it is written:\n",
    "\\begin{equation}\n",
    "    P(O_i) = p_i\n",
    "\\end{equation}\n",
    "In cases in which the $n$ outcomes are equally likely, then each probability will have a value of $1/n$."
   ]
  },
  {
   "cell_type": "markdown",
   "metadata": {},
   "source": [
    "## Events"
   ]
  },
  {
   "cell_type": "markdown",
   "metadata": {},
   "source": [
    "### Events and Complements"
   ]
  },
  {
   "cell_type": "markdown",
   "metadata": {},
   "source": [
    "- Events: subset of the sample space\n",
    "- The probability of an event $A$, $P(A)$, is obtained by the probabilities of the outcomes contained withing the event $A$\n",
    "- An event is said to occur if one of the outcomes contained within the event occurs"
   ]
  },
  {
   "cell_type": "markdown",
   "metadata": {},
   "source": [
    "- Complement of events: event $ A' $ is the event consisting of everything in the sample space $S$ that is not contained within $A$\n",
    "\\begin{equation}\n",
    "    P(A) + P(A ') = 1\n",
    "\\end{equation}\n",
    "- Elementary (or simple) event: event consisting of an individual outcome"
   ]
  },
  {
   "cell_type": "markdown",
   "metadata": {},
   "source": [
    "## Combinations of Events"
   ]
  },
  {
   "cell_type": "markdown",
   "metadata": {},
   "source": [
    "### Intersections of Events"
   ]
  },
  {
   "cell_type": "markdown",
   "metadata": {},
   "source": [
    "- Intersections of Events: $A \\cap B$ consists of the outcomes contained within both events $A$ and $B$\n",
    "- Probability of the intersection, $P(A \\cap B) $, is the probability that both events occur simultaneously\n",
    "- Properties:\n",
    "    - $P(A \\cap B) +P(A \\cap B') = P(A)$\n",
    "    - Mutually exclusive events: if $A \\cap B = \\emptyset$\n",
    "    - $A \\cap (B \\cap C) = (A \\cap B) \\cap C $"
   ]
  },
  {
   "cell_type": "markdown",
   "metadata": {},
   "source": [
    "### Union of Events"
   ]
  },
  {
   "cell_type": "markdown",
   "metadata": {},
   "source": [
    "- Union of Events: $ A \\cup B $ consists of the outcomes that are contained within at least one of the events $A$ and $B$\n",
    "- The probability of this event, $P (A \\cup B)$ is the probability that at least one of these events $A$ and $B$ occurs"
   ]
  },
  {
   "cell_type": "markdown",
   "metadata": {},
   "source": [
    "- Properties\n",
    "    - $P( A \\cup B) = P(A \\cap B') + P(A' \\cap B') + P(A \\cap B)$\n",
    "    - If the events are mutually exclusive, then $P(A \\cup B) = P(A) + P(B)$\n",
    "- Other simple results:\n",
    "    - $(A \\cup B)' = A' \\cap B' $\n",
    "    - $(A \\cap B)' = A' \\cup B' $\n",
    "    - $A \\cup A' = S $\n",
    "    - $A \\cup (B \\cup C) = (A \\cup B) \\cup C $\n"
   ]
  },
  {
   "cell_type": "markdown",
   "metadata": {},
   "source": [
    "### Combinations of Three or More Events"
   ]
  },
  {
   "cell_type": "markdown",
   "metadata": {},
   "source": [
    "- $ P(A \\cup B \\cup C) = P(A) + P(B) + P(C) - P(A \\cap B) - P( B \\cap C) - P( A \\cap C) + P(A \\cap B \\cap C)$\n",
    "- Union of Mutually Exclusive Events: given a sequence $A_1, A_2, \\cdots , A_n$ of mutually exclusive events:\n",
    "\\begin{equation}\n",
    "    P(A_1 \\cup A_2 \\cup \\cdots \\cup A_n) = P(A_1) + \\cdots + P(A_n)\n",
    "\\end{equation}\n",
    "- Partition of sample space S: given a sequence $A_1, A_2, \\cdots , A_n$ of mutually exclusive events such that $A_1 \\cup A_2 \\cup \\cdots \\cup A_n = S$ is called a partition of S"
   ]
  },
  {
   "cell_type": "markdown",
   "metadata": {},
   "source": [
    "## Conditional Probability"
   ]
  },
  {
   "cell_type": "markdown",
   "metadata": {},
   "source": [
    "### Definition of Conditional Probability"
   ]
  },
  {
   "cell_type": "markdown",
   "metadata": {},
   "source": [
    "- Conditional Probability: of an event $A$ conditional on an event $B$ is:\n",
    "\\begin{equation}\n",
    "    P(A \\mid B) = \\frac{P(A \\cap B)}{P(B)} \\hspace{0.5cm}  \\text{for } P(B) >0\n",
    "\\end{equation}"
   ]
  },
  {
   "cell_type": "markdown",
   "metadata": {},
   "source": [
    "## Probabilities of Event Intersections"
   ]
  },
  {
   "cell_type": "markdown",
   "metadata": {},
   "source": [
    "### General Multiplication Law"
   ]
  },
  {
   "cell_type": "markdown",
   "metadata": {},
   "source": [
    "- $P (A \\mid B) = \\frac{P(A \\cap B)}{P(B)} \\\\\n",
    "\\Longrightarrow P(A \\cap B) = P(B)P (A \\mid B)$\n",
    "- $P (A \\mid B \\cap C) = \\frac{P(A \\cap B \\cap C)}{P(B \\cap C)} \\\\\n",
    "\\Longrightarrow P(A \\cap B \\cap C) = P(B \\cap C)P (A \\mid B \\cap C)$\n",
    "- In general, for a sequence of events $A_1, A_2, \\cdots,Untitled A_n$:\n",
    "\\begin{equation}\n",
    "    P(A_1, A_2, \\cdots, A_n) = P(A_1)P(A_2 \\mid A_1)P(A_3 \\mid A_1 \\cap A_2) \\cdots P(A_n \\mid A_1 \\cap \\cdots \\cap A_{n-1})\n",
    "\\end{equation}"
   ]
  },
  {
   "cell_type": "markdown",
   "metadata": {},
   "source": [
    "### Independent Events"
   ]
  },
  {
   "cell_type": "markdown",
   "metadata": {},
   "source": [
    "- Two events $A$ and $B$ are independent if: \n",
    "    1. $P(A \\mid B) = P(A)$\n",
    "    2. $P(B \\mid A) = P(B)$\n",
    "    3. $P(A \\cap B) = P(A)P(B)$\n",
    "- These conditions are also equivalent\n",
    "- Interpretation: events are independent if the knowledge about one event does not affect the probability of the other event"
   ]
  },
  {
   "cell_type": "markdown",
   "metadata": {},
   "source": [
    "- Mutual independence: $A_1, A_2, \\cdots, A_n$ are mutually independent if for any subset $ \\{ j_1, j_2, \\cdots, j_k \\}, k \\leq n, \\text{of } \\{ 1, 2, \\cdots, n \\} $ : \n",
    "\\begin{equation}\n",
    "    P(A_{j_1}, A_{j_2}, \\cdots, A_{j_k} = P(A_{j_1})P(A_{j_2}) \\cdots P(A_{j_k})\n",
    "\\end{equation}"
   ]
  },
  {
   "cell_type": "markdown",
   "metadata": {},
   "source": [
    "- Pairwise independence: the events $A_1, A_2, \\cdots, A_n$ satisfying:\n",
    "\\begin{equation}\n",
    "    P(A_i \\cap A_j) = P(A_i)P(A_j) \\text{ for all } i, j \\in \\{1, 2, \\cdots, n \\} \\text{ with } i \\neq j\n",
    "\\end{equation}"
   ]
  },
  {
   "cell_type": "markdown",
   "metadata": {},
   "source": [
    "## Posterior Probabilities"
   ]
  },
  {
   "cell_type": "markdown",
   "metadata": {},
   "source": [
    "### Law of Total Probability"
   ]
  },
  {
   "cell_type": "markdown",
   "metadata": {},
   "source": [
    "- Given $\\{ A_1, A_2, \\cdots, A_n \\}$ a partition of sample space $S$, the probability of an event $B$, $P(B)$ can be expressed as:\n",
    "\\begin{equation}\n",
    "    P(B) = \\sum_{i=1}^n P(A_i)P(B \\mid A_i)\n",
    "\\end{equation}"
   ]
  },
  {
   "cell_type": "markdown",
   "metadata": {},
   "source": [
    "### Bayes' Theorem"
   ]
  },
  {
   "cell_type": "markdown",
   "metadata": {},
   "source": [
    "- Given $\\{ A_1, A_2, \\cdots, A_n \\}$ a partition of a sample space, then the posterior probabilities of the event $A_i$ conditional on an event $B$ can be obtained from the probabilities $P(A_i)$ and $P(A_i \\mid B)$ using the formula:\n",
    "\\begin{equation}\n",
    "    P(A_i \\mid B) = \\frac{P(A_i)P(B \\mid A_i)}{\\sum_{j=1}^n P(A_j)P(B \\mid A_j)}\n",
    "\\end{equation}"
   ]
  },
  {
   "cell_type": "code",
   "execution_count": null,
   "metadata": {},
   "outputs": [],
   "source": []
  }
 ],
 "metadata": {
  "kernelspec": {
   "display_name": "Python 3",
   "language": "python",
   "name": "python3"
  },
  "language_info": {
   "codemirror_mode": {
    "name": "ipython",
    "version": 3
   },
   "file_extension": ".py",
   "mimetype": "text/x-python",
   "name": "python",
   "nbconvert_exporter": "python",
   "pygments_lexer": "ipython3",
   "version": "3.8.5"
  },
  "toc-autonumbering": true
 },
 "nbformat": 4,
 "nbformat_minor": 4
}
